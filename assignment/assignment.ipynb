{
 "cells": [
  {
   "cell_type": "code",
   "execution_count": null,
   "outputs": [],
   "source": [
    "from IPython.display import Image"
   ],
   "metadata": {
    "collapsed": false,
    "pycharm": {
     "name": "#%%\n"
    }
   }
  },
  {
   "cell_type": "markdown",
   "source": [
    "# Assignment\n",
    "---\n",
    "\n",
    "### 이 글을 통해 배우는 개념\n",
    "- assignment\n",
    "- mutable & immutable\n",
    "- argument & parameter\n",
    "- call by assignment\n",
    "\n",
    "### 글을 읽고 바라는 정도\n",
    "\n",
    "- 나중에 코딩을 하다가 *'아.. 저번에 걔가 말한게 이거구나'* 하고 환기"
   ],
   "metadata": {
    "collapsed": false
   }
  },
  {
   "cell_type": "markdown",
   "source": [
    "# assignment\n",
    "---\n",
    "### 들어가기\n",
    "- 나는 아래 코드를 설명할 수 있다.\n",
    "\n",
    "    -> 다음으로 넘어가시거나, 얘가 설명 잘하나 검사하시면 됩니다"
   ],
   "metadata": {
    "collapsed": false
   }
  },
  {
   "cell_type": "code",
   "execution_count": null,
   "outputs": [],
   "source": [
    "# 각각의 번호에 해당하는 코드들이 무얼하는 걸까요? 왜 4번의 결과가 나왔을까요?\n",
    "# 1.\n",
    "a = [1, 2, 3]\n",
    "\n",
    "# 2.\n",
    "b = a\n",
    "\n",
    "# 3.\n",
    "b[0] = 4\n",
    "\n",
    "# 4. OUTPUT\n",
    "print(a) # [4, 2, 3]"
   ],
   "metadata": {
    "collapsed": false,
    "pycharm": {
     "name": "#%%\n"
    }
   }
  },
  {
   "cell_type": "markdown",
   "source": [
    "**나름대로 설명을 해보셨나요? 제가 한 번 설명을 해보겠습니다.**\n",
    "    1. [1, 2, 3] 이라는 리스트를 a에 할당을 했습니다.\n",
    "    2. a라는 변수를 b에 할당을 했습니다.\n",
    "    3. 4라는 값을 (b의 0번째 인덱스 / b리스트의 첫번째 원소)에 할당을 했습니다.\n",
    "    4. a를 출력하였고 [4, 2, 3] 출력이 되었습니다.\n",
    "\n",
    "**왜 [4, 2, 3]이 출력이 되었는가?**\n",
    "\n",
    "    - b와 a에 할당된 list, [1, 2, 3]이 mutable한 type이기 때문입니다.\n",
    "\n",
    "위의 문장이 받아들여 지시면 다음으로 넘어가시면 됩니다. 조금이라도 헷갈리신다면, 다음 공식문서를 읽고 오실게요!\n",
    "\n",
    "[파이썬 공식문서 FAQ, 리스트 y를 변경할 때 리스트 x도 변경되는 이유는 무엇입니까?](https://docs.python.org/ko/3/faq/programming.html#id17)\n",
    "\n",
    "공식 문서를 읽고 우리는 정리를 할 수 있습니다.\n",
    "\n",
    "1. 새로운 변수를 만들어 할당을 하는 과정은 단순히 객체를 가르키는 이름을 만들어주는 과정이다.\n",
    "    - 파이썬은 모든 것이 객체(object)입니다.\n",
    "2. 위의 코드는 [1, 2, 3] 이라는 리스트 객체를 a라고도 부르고 b라고도 부르겠다고 해준 것 입니다.\n",
    "3. 따라서 b를 바꾸면 a도 바뀌게 되는 것입니다.\n",
    "4. immutable한 타입의 객체는 한번 이름을 지으면 값을 변경할 수 없고 무조건 새로운 객체를 만들어야 합니다.\n",
    "\n",
    "### copy\n",
    "저는 한 객체를 다루는 여러 이름을 만드는 게 아니라 객체를 복사하고 싶습니다!"
   ],
   "metadata": {
    "collapsed": false
   }
  },
  {
   "cell_type": "code",
   "execution_count": null,
   "outputs": [],
   "source": [
    "import copy as cp\n",
    "\n",
    "# 참조 (객체의 다른 이름 짓기)\n",
    "a = [1,2,3]\n",
    "b = a\n",
    "print(id(a) is id(b))\n",
    "\n",
    "# 복사 (객체의 값을 복사해서 새로운 객체 만들기)\n",
    "b = list(a)\n",
    "print(id(a) is id(b))\n",
    "b = a[:]\n",
    "print(id(a) is id(b))\n",
    "b = a.copy()\n",
    "print(id(a) is id(b))\n",
    "b = cp.deepcopy(a)"
   ],
   "metadata": {
    "collapsed": false,
    "pycharm": {
     "name": "#%%\n"
    }
   }
  },
  {
   "cell_type": "markdown",
   "source": [
    "### 더 알아보기: copy와 deepcopy의 차이\n",
    "\n",
    "### 정리\n",
    "할당 : 이름을 지어줌\n",
    "\n",
    "mutable : 값이 변할 수 있는 객체 타입 (list, dict 등) <-> immutable\n",
    "\n",
    "복사 : 새로운 객체를 만들어 이름을 지음 <=> 참조 (기존에 있는 객체의 다른 이름을 추가)\n",
    "\n",
    "# call by assignment\n",
    "### 개요\n",
    "우리는 mutable한 객체와 immutable한 객체의 차이에 대해서 배웠습니다. 그렇다면 함수에서는 어떨까요?\n",
    "\n",
    "다음은 리스트를 매개변수로 받아 리스트를 역순으로 출력하는 예제입니다. 다음 질문에 대답해보아요"
   ],
   "metadata": {
    "collapsed": false
   }
  },
  {
   "cell_type": "code",
   "execution_count": 7,
   "outputs": [
    {
     "name": "stdout",
     "output_type": "stream",
     "text": [
      "3\n",
      "2\n",
      "1\n",
      "[]\n"
     ]
    }
   ],
   "source": [
    "def reverse(var: list):\n",
    "    new_list = var\n",
    "    while new_list:\n",
    "        print(new_list[-1])\n",
    "        new_list.pop()\n",
    "\n",
    "a = [1,2,3]\n",
    "reverse(a)"
   ],
   "metadata": {
    "collapsed": false,
    "pycharm": {
     "name": "#%%\n"
    }
   }
  },
  {
   "cell_type": "markdown",
   "source": [
    "1. reverse() 함수의 인자와 매개변수는 무엇인가요?\n",
    "2. new_list = var은 무엇을 의미하나요?\n",
    "3. reverse() 함수가 출력된 후 a 변수엔 어떤 변화가 있을까요?"
   ],
   "metadata": {
    "collapsed": false,
    "pycharm": {
     "name": "#%% md\n"
    }
   }
  },
  {
   "cell_type": "code",
   "execution_count": null,
   "outputs": [],
   "source": [
    "print(a)"
   ],
   "metadata": {
    "collapsed": false,
    "pycharm": {
     "name": "#%%\n"
    }
   }
  },
  {
   "cell_type": "markdown",
   "source": [
    "위의 함수에서 함수에 전달되는 값인 리스트 a를 인자, 함수 정의에 나타나 있는 이름인 var을 매개변수라고 말을 합니다.\n",
    "\n",
    "인자를 매개변수로 받는 과정은 var = a 처럼 a가 가르키는 객체를 var이라고도 부르겠다고 하는 과정입니다.\n",
    "\n",
    "위 과정을 인자가 대입으로 전달 된다고 하고, call by assignment 혹은 call by object reference라고 부릅니다.\n",
    "\n",
    "reverse 함수를 짠 사람은 new_list를 통해서 새로운 리스트를 만들어 기존의 리스트를 변경시키지 않으려고 시도했습니다.\n",
    "\n",
    "하지만, `new_list = var`은 단순히 var을 new_list 라고도 부른다는 뜻이기 때문에 함수가 종료되면 a의 값은 변경이 되어있습니다."
   ],
   "metadata": {
    "collapsed": false,
    "pycharm": {
     "name": "#%% md\n"
    }
   }
  },
  {
   "cell_type": "markdown",
   "source": [
    "### 메모리영역 확인\n",
    "**한 메모리를 부르는 이름의 개수 확인**"
   ],
   "metadata": {
    "collapsed": false
   }
  },
  {
   "cell_type": "code",
   "execution_count": null,
   "outputs": [],
   "source": [
    "#getrefcount == get_reference_count == 레퍼런스(이름)의 개수를 세어줌\n",
    "import sys\n",
    "a = ['a','b','c']\n",
    "print(sys.getrefcount(a))\n",
    "b = a\n",
    "print(sys.getrefcount(a))\n",
    "b = list(a[:])\n",
    "print(sys.getrefcount(a))"
   ],
   "metadata": {
    "collapsed": false,
    "pycharm": {
     "name": "#%%\n"
    }
   }
  },
  {
   "cell_type": "markdown",
   "source": [
    "### Id()"
   ],
   "metadata": {
    "collapsed": false
   }
  },
  {
   "cell_type": "code",
   "execution_count": null,
   "outputs": [],
   "source": [
    "# python help\n",
    "help(id)"
   ],
   "metadata": {
    "collapsed": false,
    "pycharm": {
     "name": "#%%\n"
    }
   }
  },
  {
   "cell_type": "code",
   "execution_count": null,
   "outputs": [],
   "source": [
    "x = [\"a\", \"b\", \"c\"]\n",
    "print(id(x))"
   ],
   "metadata": {
    "collapsed": false,
    "pycharm": {
     "name": "#%%\n"
    }
   }
  },
  {
   "cell_type": "code",
   "execution_count": null,
   "outputs": [],
   "source": [
    "# x라는 이름 말고도 y라는 이름으로 부를래!\n",
    "y = x\n",
    "print(id(y))"
   ],
   "metadata": {
    "collapsed": false,
    "pycharm": {
     "name": "#%%\n"
    }
   }
  },
  {
   "cell_type": "code",
   "execution_count": null,
   "outputs": [],
   "source": [
    "# 리스트의 요소하나를 바꾸어도, 리스트 전체의 주소가 변하진 않음\n",
    "y[1] = \"z\"\n",
    "print(id(x))\n",
    "print(id(y))\n",
    "print(x)"
   ],
   "metadata": {
    "collapsed": false,
    "pycharm": {
     "name": "#%%\n"
    }
   }
  },
  {
   "cell_type": "markdown",
   "source": [
    "### copy\n",
    "음 나는 근데 할당을 통해 새로운 이름을 지어주는 게 아니라, 복사를 하고 싶어\n",
    "    -> 참조가 아닌 복사를 하셔야합니다.\n",
    "단일 할당 연산자(=)만 쓰이지 않음"
   ],
   "metadata": {
    "collapsed": false
   }
  },
  {
   "cell_type": "code",
   "execution_count": null,
   "outputs": [],
   "source": [
    "# list(x[:])는 x와 같은 값을 복사한 것임\n",
    "print(id(x))\n",
    "print(id(list(x)))"
   ],
   "metadata": {
    "collapsed": false,
    "pycharm": {
     "name": "#%%\n"
    }
   }
  },
  {
   "cell_type": "code",
   "execution_count": null,
   "outputs": [],
   "source": [
    "# 다른 방법들\n",
    "print(id(x[:]))\n",
    "print(id(x.copy))\n",
    "\n",
    "import copy as cp\n",
    "print(id(cp.copy(x)))"
   ],
   "metadata": {
    "collapsed": false,
    "pycharm": {
     "name": "#%%\n"
    }
   }
  },
  {
   "cell_type": "code",
   "execution_count": null,
   "outputs": [],
   "source": [
    "# x와 값이 동일하지만 다른 (실제로 다른 메모리에 따로 저장된) 리스트를 만들고 y라 부를래!\n",
    "y = list(x) # x[:], x.copy() 다른 방법들\n",
    "print(id(x))\n",
    "print(id(y))"
   ],
   "metadata": {
    "collapsed": false,
    "pycharm": {
     "name": "#%%\n"
    }
   }
  },
  {
   "cell_type": "markdown",
   "source": [
    "모든 자료형이 위와 같은 assignment와 copy가 있는건가?\n",
    "\n",
    "    -> List가 Mutable한 변수이기 때문에 해당. Immutable한 변수들은 애초에 값이 변경이 안 됨\n",
    "\n",
    "### Mutable\n",
    "\n",
    "**정의**\n",
    "\n",
    "값을 변경할 수 있는 자료형."
   ],
   "metadata": {
    "collapsed": false
   }
  },
  {
   "cell_type": "code",
   "execution_count": null,
   "outputs": [],
   "source": [
    "# immutable한 자료형인 tuple의 값을 변경하려고 시도\n",
    "a = (3, 4)\n",
    "a[0] = 1"
   ],
   "metadata": {
    "collapsed": false,
    "pycharm": {
     "name": "#%%\n"
    }
   }
  },
  {
   "cell_type": "markdown",
   "source": [
    "Mutable - 리스트, 딕셔너리, numpy의 배열\n",
    "\n",
    "Immutable - 숫자, 문자열, 튜플\n",
    "\n",
    "copy 대신 할당을 하면 어떤 문제가 생길까?\n",
    "\n",
    "    -> Mutable(값을 변경할 수 있는) 자료형을 다룰 때 문제가 됨.\n",
    "\n",
    "### Mutable한 자료형을 쓸 때 할당을 복사로 오해시 발생하는 문제\n",
    "\n",
    "이런 문제가 있을 수 있지 않을까?하는 저의 상상입니다.\n",
    "\n",
    "우리에게 머신러닝 모델의 파라미터를 조정한다고 가정"
   ],
   "metadata": {
    "collapsed": false
   }
  },
  {
   "cell_type": "code",
   "execution_count": null,
   "outputs": [],
   "source": [
    "# 치킨집의 치킨 판매량 예측\n",
    "data_columns = ['날짜', '요일', '계절', '날씨', '스포츠경기', '개학일']\n",
    "\n",
    "# data중에서 연관 있을거라 생각하는 것들 선별\n",
    "a = ['계절', '날씨', '스포츠경기']\n",
    "\n",
    "# 테스트를 해봄\n",
    "# ...\n",
    "\n",
    "# 스포츠경기보다는 근처 학교 개학일이 영향을 주지 않을까?\n",
    "a_test = a # copy라고 생각하고 test를 만들었지만, 사실은 assignment\n",
    "a_test[a.index('스포츠경기')] = '개학일'\n",
    "\n",
    "# a_test로 테스트를 마쳤다고 가정\n",
    "\n",
    "# 테스트를 해봤는데 소득이 없네.. 원래 a로 돌아와야겠다\n",
    "print(a)"
   ],
   "metadata": {
    "collapsed": false,
    "pycharm": {
     "name": "#%%\n"
    }
   }
  },
  {
   "cell_type": "markdown",
   "source": [
    "지금은 쉽게 티가나지만, 자료형이 더 복잡하고, 요인들로 생각하는 값들이 더 많다면?"
   ],
   "metadata": {
    "collapsed": false
   }
  },
  {
   "cell_type": "markdown",
   "source": [
    "### assignment 인것과 아닌것.\n",
    "\n",
    "**Is assignment,**\n",
    "\n",
    "    - a = b\n",
    "    - a = b (+,-,*,..) c\n",
    "        - ex) a = b + c, a = a + b\n",
    "    - 함수의 매개변수\n",
    "\n",
    "**Not assignment**\n",
    "\n",
    "    - 특정 내장함수(append 함수, copy 함수)\n",
    "    - copy.copy(변수)\n",
    "    - 슬라이싱\n",
    "        * ex) a = b[:]\n",
    "    - a (+,-,*..)= c\n",
    "        * ex) a += b"
   ],
   "metadata": {
    "collapsed": false
   }
  },
  {
   "cell_type": "code",
   "execution_count": null,
   "outputs": [],
   "source": [
    "#예외 사항\n",
    "\n",
    "x = [1,2,3]\n",
    "print('type of x', type(x))\n",
    "print('Id before assignment', id(x))\n",
    "x = x * 2\n",
    "print('Id After assignment', id(x))\n",
    "print(x)"
   ],
   "metadata": {
    "collapsed": false,
    "pycharm": {
     "name": "#%%\n"
    }
   }
  },
  {
   "cell_type": "code",
   "execution_count": null,
   "outputs": [],
   "source": [
    "x = [1,2,3]\n",
    "print('type of x', type(x))\n",
    "print('Id before assignment', id(x))\n",
    "x *= 2\n",
    "print('Id After assignment', id(x))\n",
    "print(x)"
   ],
   "metadata": {
    "collapsed": false,
    "pycharm": {
     "name": "#%%\n"
    }
   }
  },
  {
   "cell_type": "markdown",
   "source": [
    "### pass by assignment\n",
    "\n",
    "함수의 매개변수로 넘어갈 때, 함수 내부에 새로운 변수를 할당하는 것임"
   ],
   "metadata": {
    "collapsed": false
   }
  },
  {
   "cell_type": "code",
   "execution_count": null,
   "outputs": [],
   "source": [
    "# Immutable parameter\n",
    "def twice(x):\n",
    "    x *= 2\n",
    "\n",
    "x = 'hello'\n",
    "twice(x)\n",
    "print(x)"
   ],
   "metadata": {
    "collapsed": false,
    "pycharm": {
     "name": "#%%\n"
    }
   }
  },
  {
   "cell_type": "code",
   "execution_count": null,
   "outputs": [],
   "source": [
    "def twice(x):\n",
    "    print('In func, id of \"x\" is', id(x))\n",
    "    x *= 2\n",
    "    print('After assignment, id of \"x\" is', id(x))"
   ],
   "metadata": {
    "collapsed": false,
    "pycharm": {
     "name": "#%%\n"
    }
   }
  },
  {
   "cell_type": "code",
   "execution_count": null,
   "outputs": [],
   "source": [
    "x = 'hello'\n",
    "twice(x)\n",
    "print('id of \"x\" is', id(x))"
   ],
   "metadata": {
    "collapsed": false,
    "pycharm": {
     "name": "#%%\n"
    }
   }
  },
  {
   "cell_type": "code",
   "execution_count": null,
   "outputs": [],
   "source": [
    "# Mutable Parameter\n",
    "\n",
    "x = ['1', '2', '3']\n",
    "print('Before func, id of \"x\" is', id(x))\n",
    "twice(x)\n",
    "print('After func, id of \"x\" is', id(x))\n",
    "print('The value x is', x)"
   ],
   "metadata": {
    "collapsed": false,
    "pycharm": {
     "name": "#%%\n"
    }
   }
  },
  {
   "cell_type": "code",
   "execution_count": null,
   "outputs": [],
   "source": [
    "Image(\"../imgs/week1_3.png\")"
   ],
   "metadata": {
    "collapsed": false,
    "pycharm": {
     "name": "#%%\n"
    }
   }
  },
  {
   "cell_type": "code",
   "execution_count": null,
   "outputs": [],
   "source": [
    "Image(\"../imgs/week1_4.png\")"
   ],
   "metadata": {
    "collapsed": false,
    "pycharm": {
     "name": "#%%\n"
    }
   }
  },
  {
   "cell_type": "code",
   "execution_count": null,
   "outputs": [],
   "source": [
    "Image(\"../imgs/week1_5.png\")"
   ],
   "metadata": {
    "collapsed": false,
    "pycharm": {
     "name": "#%%\n"
    }
   }
  },
  {
   "cell_type": "markdown",
   "source": [
    "### 파이썬의 리터럴 상수\n",
    "**리스트 내부 값의 주소**"
   ],
   "metadata": {
    "collapsed": false
   }
  },
  {
   "cell_type": "code",
   "execution_count": null,
   "outputs": [],
   "source": [
    "z = [\"a\", \"b\", \"c\"]\n",
    "print(id(x[0]), id(x[1]), id(x[2]))\n",
    "print(id(y[0]), id(y[1]), id(y[2]))\n",
    "print(id(z[0]), id(z[1]), id(z[2]))"
   ],
   "metadata": {
    "collapsed": false,
    "pycharm": {
     "name": "#%%\n"
    }
   }
  },
  {
   "cell_type": "markdown",
   "source": [
    "### 리스트 안에 또 리스트"
   ],
   "metadata": {
    "collapsed": false
   }
  },
  {
   "cell_type": "code",
   "execution_count": null,
   "outputs": [],
   "source": [
    "a = [[1,2,3],(4,5),6]\n",
    "\n",
    "# a와 값이 동일하지만, 엄연히 다른 새로운 변수의 이름 b\n",
    "b = a[:]\n",
    "print(id(a))\n",
    "print(id(b))"
   ],
   "metadata": {
    "collapsed": false,
    "pycharm": {
     "name": "#%%\n"
    }
   }
  },
  {
   "cell_type": "code",
   "execution_count": null,
   "outputs": [],
   "source": [
    "# 내부 리스트는 이름이 같음!\n",
    "print(id(a[0]), id(a[1]), id(a[2]))\n",
    "print(id(b[0]), id(b[1]), id(b[2]))"
   ],
   "metadata": {
    "collapsed": false,
    "pycharm": {
     "name": "#%%\n"
    }
   }
  },
  {
   "cell_type": "markdown",
   "source": [
    "**리스트 안의 리스트 값 변경해보기**"
   ],
   "metadata": {
    "collapsed": false
   }
  },
  {
   "cell_type": "code",
   "execution_count": null,
   "outputs": [],
   "source": [
    "a[0][0] = 4\n",
    "print(id(a[0]))\n",
    "print(id(b[0]))\n",
    "print(a)\n",
    "print(b)"
   ],
   "metadata": {
    "collapsed": false,
    "pycharm": {
     "name": "#%%\n"
    }
   }
  },
  {
   "cell_type": "markdown",
   "source": [
    "### copy면 독립적인가?"
   ],
   "metadata": {
    "collapsed": false
   }
  },
  {
   "cell_type": "code",
   "execution_count": null,
   "outputs": [],
   "source": [
    "a = [[1,2,3],[4,5,6]]\n",
    "b = a.copy()\n",
    "\n",
    "b[0][0] = 7\n",
    "print(a)"
   ],
   "metadata": {
    "collapsed": false,
    "pycharm": {
     "name": "#%%\n"
    }
   }
  },
  {
   "cell_type": "markdown",
   "source": [
    "### copy와 deepcopy\n",
    "\n",
    "copy는 객체에 포함된 레퍼런스가 가르키는 값을 복사하지는 않음 (얕은 복사, shallow copy)"
   ],
   "metadata": {
    "collapsed": false
   }
  },
  {
   "cell_type": "code",
   "execution_count": 22,
   "outputs": [],
   "source": [
    "import copy as cp\n",
    "#import copy 위에서 이미함\n",
    "x = [[1,2,3],[4,5,6],[7,8,9]]\n",
    "def is_same_id(a, b):\n",
    "    if id(a) == id(b):\n",
    "        print('메모리 주소(id)가 같습니다.')\n",
    "    else:\n",
    "        print('메모리 주소(id)가 다릅니다.')"
   ],
   "metadata": {
    "collapsed": false,
    "pycharm": {
     "name": "#%%\n"
    }
   }
  },
  {
   "cell_type": "code",
   "execution_count": 23,
   "outputs": [
    {
     "name": "stdout",
     "output_type": "stream",
     "text": [
      "메모리 주소(id)가 같습니다.\n",
      "메모리 주소(id)가 같습니다.\n"
     ]
    }
   ],
   "source": [
    "\n",
    "a = x\n",
    "is_same_id(x, a)\n",
    "is_same_id(x[0], a[0])"
   ],
   "metadata": {
    "collapsed": false,
    "pycharm": {
     "name": "#%%\n"
    }
   }
  },
  {
   "cell_type": "code",
   "execution_count": 24,
   "outputs": [
    {
     "ename": "NameError",
     "evalue": "name 'cp' is not defined",
     "output_type": "error",
     "traceback": [
      "\u001B[0;31m---------------------------------------------------------------------------\u001B[0m",
      "\u001B[0;31mNameError\u001B[0m                                 Traceback (most recent call last)",
      "\u001B[0;32m/var/folders/z_/fl1l3lj16n55t2wwqw4xkcw80000gn/T/ipykernel_61669/3350354604.py\u001B[0m in \u001B[0;36m<module>\u001B[0;34m\u001B[0m\n\u001B[0;32m----> 1\u001B[0;31m \u001B[0mb\u001B[0m \u001B[0;34m=\u001B[0m \u001B[0mcp\u001B[0m\u001B[0;34m.\u001B[0m\u001B[0mcopy\u001B[0m\u001B[0;34m(\u001B[0m\u001B[0mx\u001B[0m\u001B[0;34m)\u001B[0m \u001B[0;31m# x.copy(), x[:]\u001B[0m\u001B[0;34m\u001B[0m\u001B[0;34m\u001B[0m\u001B[0m\n\u001B[0m\u001B[1;32m      2\u001B[0m \u001B[0mis_same_id\u001B[0m\u001B[0;34m(\u001B[0m\u001B[0mx\u001B[0m\u001B[0;34m,\u001B[0m \u001B[0mb\u001B[0m\u001B[0;34m)\u001B[0m\u001B[0;34m\u001B[0m\u001B[0;34m\u001B[0m\u001B[0m\n\u001B[1;32m      3\u001B[0m \u001B[0mis_same_id\u001B[0m\u001B[0;34m(\u001B[0m\u001B[0mx\u001B[0m\u001B[0;34m[\u001B[0m\u001B[0;36m0\u001B[0m\u001B[0;34m]\u001B[0m\u001B[0;34m,\u001B[0m \u001B[0mb\u001B[0m\u001B[0;34m[\u001B[0m\u001B[0;36m0\u001B[0m\u001B[0;34m]\u001B[0m\u001B[0;34m)\u001B[0m\u001B[0;34m\u001B[0m\u001B[0;34m\u001B[0m\u001B[0m\n\u001B[1;32m      4\u001B[0m \u001B[0;34m\u001B[0m\u001B[0m\n",
      "\u001B[0;31mNameError\u001B[0m: name 'cp' is not defined"
     ]
    }
   ],
   "source": [
    "#import copy 위에서 이미함\n",
    "x = [[1,2,3],[4,5,6],[7,8,9]]\n",
    "def is_same_id(a, b):\n",
    "    if id(a) == id(b):\n",
    "        print('메모리 주소(id)가 같습니다.')\n",
    "    else:\n",
    "        print('메모리 주소(id)가 다릅니다.')"
   ],
   "metadata": {
    "collapsed": false,
    "pycharm": {
     "name": "#%%\n"
    }
   }
  },
  {
   "cell_type": "code",
   "execution_count": 25,
   "outputs": [
    {
     "ename": "NameError",
     "evalue": "name 'cp' is not defined",
     "output_type": "error",
     "traceback": [
      "\u001B[0;31m---------------------------------------------------------------------------\u001B[0m",
      "\u001B[0;31mNameError\u001B[0m                                 Traceback (most recent call last)",
      "\u001B[0;32m/var/folders/z_/fl1l3lj16n55t2wwqw4xkcw80000gn/T/ipykernel_61669/4106209290.py\u001B[0m in \u001B[0;36m<module>\u001B[0;34m\u001B[0m\n\u001B[0;32m----> 1\u001B[0;31m \u001B[0mc\u001B[0m \u001B[0;34m=\u001B[0m \u001B[0mcp\u001B[0m\u001B[0;34m.\u001B[0m\u001B[0mdeepcopy\u001B[0m\u001B[0;34m(\u001B[0m\u001B[0mx\u001B[0m\u001B[0;34m)\u001B[0m\u001B[0;34m\u001B[0m\u001B[0;34m\u001B[0m\u001B[0m\n\u001B[0m\u001B[1;32m      2\u001B[0m \u001B[0mis_same_id\u001B[0m\u001B[0;34m(\u001B[0m\u001B[0mx\u001B[0m\u001B[0;34m,\u001B[0m \u001B[0mc\u001B[0m\u001B[0;34m)\u001B[0m\u001B[0;34m\u001B[0m\u001B[0;34m\u001B[0m\u001B[0m\n\u001B[1;32m      3\u001B[0m \u001B[0mis_same_id\u001B[0m\u001B[0;34m(\u001B[0m\u001B[0mx\u001B[0m\u001B[0;34m[\u001B[0m\u001B[0;36m0\u001B[0m\u001B[0;34m]\u001B[0m\u001B[0;34m,\u001B[0m \u001B[0mc\u001B[0m\u001B[0;34m[\u001B[0m\u001B[0;36m0\u001B[0m\u001B[0;34m]\u001B[0m\u001B[0;34m)\u001B[0m\u001B[0;34m\u001B[0m\u001B[0;34m\u001B[0m\u001B[0m\n\u001B[1;32m      4\u001B[0m \u001B[0;34m\u001B[0m\u001B[0m\n",
      "\u001B[0;31mNameError\u001B[0m: name 'cp' is not defined"
     ]
    }
   ],
   "source": [
    "#import copy 위에서 이미함\n",
    "x = [[1,2,3],[4,5,6],[7,8,9]]\n",
    "def is_same_id(a, b):\n",
    "    if id(a) == id(b):\n",
    "        print('메모리 주소(id)가 같습니다.')\n",
    "    else:\n",
    "        print('메모리 주소(id)가 다릅니다.')"
   ],
   "metadata": {
    "collapsed": false,
    "pycharm": {
     "name": "#%%\n"
    }
   }
  },
  {
   "cell_type": "code",
   "execution_count": 26,
   "outputs": [
    {
     "ename": "SyntaxError",
     "evalue": "invalid syntax (1454173527.py, line 4)",
     "output_type": "error",
     "traceback": [
      "\u001B[0;36m  File \u001B[0;32m\"/var/folders/z_/fl1l3lj16n55t2wwqw4xkcw80000gn/T/ipykernel_61669/1454173527.py\"\u001B[0;36m, line \u001B[0;32m4\u001B[0m\n\u001B[0;31m    [Python Tutorial: Pass by assignment](https://www.youtube.com/watch?v=m8YbXbcFLNc)\u001B[0m\n\u001B[0m            ^\u001B[0m\n\u001B[0;31mSyntaxError\u001B[0m\u001B[0;31m:\u001B[0m invalid syntax\n"
     ]
    }
   ],
   "source": [
    "#import copy 위에서 이미함\n",
    "x = [[1,2,3],[4,5,6],[7,8,9]]\n",
    "def is_same_id(a, b):\n",
    "    if id(a) == id(b):\n",
    "        print('메모리 주소(id)가 같습니다.')\n",
    "    else:\n",
    "        print('메모리 주소(id)가 다릅니다.')"
   ],
   "metadata": {
    "collapsed": false,
    "pycharm": {
     "name": "#%%\n"
    }
   }
  },
  {
   "cell_type": "code",
   "execution_count": 27,
   "outputs": [
    {
     "ename": "SyntaxError",
     "evalue": "invalid syntax (2910835746.py, line 4)",
     "output_type": "error",
     "traceback": [
      "\u001B[0;36m  File \u001B[0;32m\"/var/folders/z_/fl1l3lj16n55t2wwqw4xkcw80000gn/T/ipykernel_61669/2910835746.py\"\u001B[0;36m, line \u001B[0;32m4\u001B[0m\n\u001B[0;31m    - default parameter\u001B[0m\n\u001B[0m              ^\u001B[0m\n\u001B[0;31mSyntaxError\u001B[0m\u001B[0;31m:\u001B[0m invalid syntax\n"
     ]
    }
   ],
   "source": [
    "#import copy 위에서 이미함\n",
    "x = [[1,2,3],[4,5,6],[7,8,9]]\n",
    "def is_same_id(a, b):\n",
    "    if id(a) == id(b):\n",
    "        print('메모리 주소(id)가 같습니다.')\n",
    "    else:\n",
    "        print('메모리 주소(id)가 다릅니다.')"
   ],
   "metadata": {
    "collapsed": false,
    "pycharm": {
     "name": "#%%\n"
    }
   }
  },
  {
   "cell_type": "code",
   "execution_count": null,
   "outputs": [],
   "source": [
    "#import copy 위에서 이미함\n",
    "x = [[1,2,3],[4,5,6],[7,8,9]]\n",
    "def is_same_id(a, b):\n",
    "    if id(a) == id(b):\n",
    "        print('메모리 주소(id)가 같습니다.')\n",
    "    else:\n",
    "        print('메모리 주소(id)가 다릅니다.')"
   ],
   "metadata": {
    "collapsed": false,
    "pycharm": {
     "name": "#%%\n"
    }
   }
  },
  {
   "cell_type": "code",
   "execution_count": null,
   "outputs": [],
   "source": [
    "#import copy 위에서 이미함\n",
    "x = [[1,2,3],[4,5,6],[7,8,9]]\n",
    "def is_same_id(a, b):\n",
    "    if id(a) == id(b):\n",
    "        print('메모리 주소(id)가 같습니다.')\n",
    "    else:\n",
    "        print('메모리 주소(id)가 다릅니다.')"
   ],
   "metadata": {
    "collapsed": false,
    "pycharm": {
     "name": "#%%\n"
    }
   }
  },
  {
   "cell_type": "code",
   "execution_count": null,
   "outputs": [],
   "source": [
    "#import copy 위에서 이미함\n",
    "x = [[1,2,3],[4,5,6],[7,8,9]]\n",
    "def is_same_id(a, b):\n",
    "    if id(a) == id(b):\n",
    "        print('메모리 주소(id)가 같습니다.')\n",
    "    else:\n",
    "        print('메모리 주소(id)가 다릅니다.')"
   ],
   "metadata": {
    "collapsed": false,
    "pycharm": {
     "name": "#%%\n"
    }
   }
  },
  {
   "cell_type": "code",
   "execution_count": null,
   "outputs": [],
   "source": [
    "#import copy 위에서 이미함\n",
    "x = [[1,2,3],[4,5,6],[7,8,9]]\n",
    "def is_same_id(a, b):\n",
    "    if id(a) == id(b):\n",
    "        print('메모리 주소(id)가 같습니다.')\n",
    "    else:\n",
    "        print('메모리 주소(id)가 다릅니다.')"
   ],
   "metadata": {
    "collapsed": false,
    "pycharm": {
     "name": "#%%\n"
    }
   }
  },
  {
   "cell_type": "code",
   "execution_count": null,
   "outputs": [],
   "source": [
    "#import copy 위에서 이미함\n",
    "x = [[1,2,3],[4,5,6],[7,8,9]]\n",
    "def is_same_id(a, b):\n",
    "    if id(a) == id(b):\n",
    "        print('메모리 주소(id)가 같습니다.')\n",
    "    else:\n",
    "        print('메모리 주소(id)가 다릅니다.')"
   ],
   "metadata": {
    "collapsed": false,
    "pycharm": {
     "name": "#%%\n"
    }
   }
  },
  {
   "cell_type": "code",
   "execution_count": null,
   "outputs": [],
   "source": [
    "#import copy 위에서 이미함\n",
    "x = [[1,2,3],[4,5,6],[7,8,9]]\n",
    "def is_same_id(a, b):\n",
    "    if id(a) == id(b):\n",
    "        print('메모리 주소(id)가 같습니다.')\n",
    "    else:\n",
    "        print('메모리 주소(id)가 다릅니다.')"
   ],
   "metadata": {
    "collapsed": false,
    "pycharm": {
     "name": "#%%\n"
    }
   }
  },
  {
   "cell_type": "code",
   "execution_count": null,
   "outputs": [],
   "source": [
    "#import copy 위에서 이미함\n",
    "x = [[1,2,3],[4,5,6],[7,8,9]]\n",
    "def is_same_id(a, b):\n",
    "    if id(a) == id(b):\n",
    "        print('메모리 주소(id)가 같습니다.')\n",
    "    else:\n",
    "        print('메모리 주소(id)가 다릅니다.')"
   ],
   "metadata": {
    "collapsed": false,
    "pycharm": {
     "name": "#%%\n"
    }
   }
  },
  {
   "cell_type": "code",
   "execution_count": null,
   "outputs": [],
   "source": [
    "#import copy 위에서 이미함\n",
    "x = [[1,2,3],[4,5,6],[7,8,9]]\n",
    "def is_same_id(a, b):\n",
    "    if id(a) == id(b):\n",
    "        print('메모리 주소(id)가 같습니다.')\n",
    "    else:\n",
    "        print('메모리 주소(id)가 다릅니다.')"
   ],
   "metadata": {
    "collapsed": false,
    "pycharm": {
     "name": "#%%\n"
    }
   }
  },
  {
   "cell_type": "code",
   "execution_count": null,
   "outputs": [],
   "source": [
    "#import copy 위에서 이미함\n",
    "x = [[1,2,3],[4,5,6],[7,8,9]]\n",
    "def is_same_id(a, b):\n",
    "    if id(a) == id(b):\n",
    "        print('메모리 주소(id)가 같습니다.')\n",
    "    else:\n",
    "        print('메모리 주소(id)가 다릅니다.')"
   ],
   "metadata": {
    "collapsed": false,
    "pycharm": {
     "name": "#%%\n"
    }
   }
  },
  {
   "cell_type": "code",
   "execution_count": null,
   "outputs": [],
   "source": [
    "#import copy 위에서 이미함\n",
    "x = [[1,2,3],[4,5,6],[7,8,9]]\n",
    "def is_same_id(a, b):\n",
    "    if id(a) == id(b):\n",
    "        print('메모리 주소(id)가 같습니다.')\n",
    "    else:\n",
    "        print('메모리 주소(id)가 다릅니다.')"
   ],
   "metadata": {
    "collapsed": false,
    "pycharm": {
     "name": "#%%\n"
    }
   }
  },
  {
   "cell_type": "code",
   "execution_count": null,
   "outputs": [],
   "source": [
    "#import copy 위에서 이미함\n",
    "x = [[1,2,3],[4,5,6],[7,8,9]]\n",
    "def is_same_id(a, b):\n",
    "    if id(a) == id(b):\n",
    "        print('메모리 주소(id)가 같습니다.')\n",
    "    else:\n",
    "        print('메모리 주소(id)가 다릅니다.')"
   ],
   "metadata": {
    "collapsed": false,
    "pycharm": {
     "name": "#%%\n"
    }
   }
  },
  {
   "cell_type": "code",
   "execution_count": null,
   "outputs": [],
   "source": [
    "#import copy 위에서 이미함\n",
    "x = [[1,2,3],[4,5,6],[7,8,9]]\n",
    "def is_same_id(a, b):\n",
    "    if id(a) == id(b):\n",
    "        print('메모리 주소(id)가 같습니다.')\n",
    "    else:\n",
    "        print('메모리 주소(id)가 다릅니다.')"
   ],
   "metadata": {
    "collapsed": false,
    "pycharm": {
     "name": "#%%\n"
    }
   }
  },
  {
   "cell_type": "code",
   "execution_count": null,
   "outputs": [],
   "source": [
    "#import copy 위에서 이미함\n",
    "x = [[1,2,3],[4,5,6],[7,8,9]]\n",
    "def is_same_id(a, b):\n",
    "    if id(a) == id(b):\n",
    "        print('메모리 주소(id)가 같습니다.')\n",
    "    else:\n",
    "        print('메모리 주소(id)가 다릅니다.')"
   ],
   "metadata": {
    "collapsed": false,
    "pycharm": {
     "name": "#%%\n"
    }
   }
  },
  {
   "cell_type": "code",
   "execution_count": null,
   "outputs": [],
   "source": [
    "#import copy 위에서 이미함\n",
    "x = [[1,2,3],[4,5,6],[7,8,9]]\n",
    "def is_same_id(a, b):\n",
    "    if id(a) == id(b):\n",
    "        print('메모리 주소(id)가 같습니다.')\n",
    "    else:\n",
    "        print('메모리 주소(id)가 다릅니다.')"
   ],
   "metadata": {
    "collapsed": false,
    "pycharm": {
     "name": "#%%\n"
    }
   }
  },
  {
   "cell_type": "code",
   "execution_count": null,
   "outputs": [],
   "source": [
    "#import copy 위에서 이미함\n",
    "x = [[1,2,3],[4,5,6],[7,8,9]]\n",
    "def is_same_id(a, b):\n",
    "    if id(a) == id(b):\n",
    "        print('메모리 주소(id)가 같습니다.')\n",
    "    else:\n",
    "        print('메모리 주소(id)가 다릅니다.')"
   ],
   "metadata": {
    "collapsed": false,
    "pycharm": {
     "name": "#%%\n"
    }
   }
  },
  {
   "cell_type": "code",
   "execution_count": null,
   "outputs": [],
   "source": [
    "#import copy 위에서 이미함\n",
    "x = [[1,2,3],[4,5,6],[7,8,9]]\n",
    "def is_same_id(a, b):\n",
    "    if id(a) == id(b):\n",
    "        print('메모리 주소(id)가 같습니다.')\n",
    "    else:\n",
    "        print('메모리 주소(id)가 다릅니다.')"
   ],
   "metadata": {
    "collapsed": false,
    "pycharm": {
     "name": "#%%\n"
    }
   }
  },
  {
   "cell_type": "code",
   "execution_count": null,
   "outputs": [],
   "source": [
    "#import copy 위에서 이미함\n",
    "x = [[1,2,3],[4,5,6],[7,8,9]]\n",
    "def is_same_id(a, b):\n",
    "    if id(a) == id(b):\n",
    "        print('메모리 주소(id)가 같습니다.')\n",
    "    else:\n",
    "        print('메모리 주소(id)가 다릅니다.')"
   ],
   "metadata": {
    "collapsed": false,
    "pycharm": {
     "name": "#%%\n"
    }
   }
  },
  {
   "cell_type": "code",
   "execution_count": null,
   "outputs": [],
   "source": [
    "#import copy 위에서 이미함\n",
    "x = [[1,2,3],[4,5,6],[7,8,9]]\n",
    "def is_same_id(a, b):\n",
    "    if id(a) == id(b):\n",
    "        print('메모리 주소(id)가 같습니다.')\n",
    "    else:\n",
    "        print('메모리 주소(id)가 다릅니다.')"
   ],
   "metadata": {
    "collapsed": false,
    "pycharm": {
     "name": "#%%\n"
    }
   }
  },
  {
   "cell_type": "code",
   "execution_count": null,
   "outputs": [],
   "source": [
    "#import copy 위에서 이미함\n",
    "x = [[1,2,3],[4,5,6],[7,8,9]]\n",
    "def is_same_id(a, b):\n",
    "    if id(a) == id(b):\n",
    "        print('메모리 주소(id)가 같습니다.')\n",
    "    else:\n",
    "        print('메모리 주소(id)가 다릅니다.')"
   ],
   "metadata": {
    "collapsed": false,
    "pycharm": {
     "name": "#%%\n"
    }
   }
  },
  {
   "cell_type": "code",
   "execution_count": null,
   "outputs": [],
   "source": [
    "#import copy 위에서 이미함\n",
    "x = [[1,2,3],[4,5,6],[7,8,9]]\n",
    "def is_same_id(a, b):\n",
    "    if id(a) == id(b):\n",
    "        print('메모리 주소(id)가 같습니다.')\n",
    "    else:\n",
    "        print('메모리 주소(id)가 다릅니다.')"
   ],
   "metadata": {
    "collapsed": false,
    "pycharm": {
     "name": "#%%\n"
    }
   }
  },
  {
   "cell_type": "code",
   "execution_count": 10,
   "outputs": [],
   "source": [
    "#import copy 위에서 이미함\n",
    "x = [[1,2,3],[4,5,6],[7,8,9]]\n",
    "def is_same_id(a, b):\n",
    "    if id(a) == id(b):\n",
    "        print('메모리 주소(id)가 같습니다.')\n",
    "    else:\n",
    "        print('메모리 주소(id)가 다릅니다.')"
   ],
   "metadata": {
    "collapsed": false,
    "pycharm": {
     "name": "#%%\n"
    }
   }
  },
  {
   "cell_type": "code",
   "execution_count": 11,
   "outputs": [
    {
     "name": "stdout",
     "output_type": "stream",
     "text": [
      "메모리 주소(id)가 같습니다.\n",
      "메모리 주소(id)가 같습니다.\n"
     ]
    }
   ],
   "source": [
    "a = x\n",
    "is_same_id(x, a)\n",
    "is_same_id(x[0], a[0])"
   ],
   "metadata": {
    "collapsed": false,
    "pycharm": {
     "name": "#%%\n"
    }
   }
  },
  {
   "cell_type": "code",
   "execution_count": 12,
   "outputs": [
    {
     "ename": "NameError",
     "evalue": "name 'cp' is not defined",
     "output_type": "error",
     "traceback": [
      "\u001B[0;31m---------------------------------------------------------------------------\u001B[0m",
      "\u001B[0;31mNameError\u001B[0m                                 Traceback (most recent call last)",
      "\u001B[0;32m/var/folders/z_/fl1l3lj16n55t2wwqw4xkcw80000gn/T/ipykernel_61669/3350354604.py\u001B[0m in \u001B[0;36m<module>\u001B[0;34m\u001B[0m\n\u001B[0;32m----> 1\u001B[0;31m \u001B[0mb\u001B[0m \u001B[0;34m=\u001B[0m \u001B[0mcp\u001B[0m\u001B[0;34m.\u001B[0m\u001B[0mcopy\u001B[0m\u001B[0;34m(\u001B[0m\u001B[0mx\u001B[0m\u001B[0;34m)\u001B[0m \u001B[0;31m# x.copy(), x[:]\u001B[0m\u001B[0;34m\u001B[0m\u001B[0;34m\u001B[0m\u001B[0m\n\u001B[0m\u001B[1;32m      2\u001B[0m \u001B[0mis_same_id\u001B[0m\u001B[0;34m(\u001B[0m\u001B[0mx\u001B[0m\u001B[0;34m,\u001B[0m \u001B[0mb\u001B[0m\u001B[0;34m)\u001B[0m\u001B[0;34m\u001B[0m\u001B[0;34m\u001B[0m\u001B[0m\n\u001B[1;32m      3\u001B[0m \u001B[0mis_same_id\u001B[0m\u001B[0;34m(\u001B[0m\u001B[0mx\u001B[0m\u001B[0;34m[\u001B[0m\u001B[0;36m0\u001B[0m\u001B[0;34m]\u001B[0m\u001B[0;34m,\u001B[0m \u001B[0mb\u001B[0m\u001B[0;34m[\u001B[0m\u001B[0;36m0\u001B[0m\u001B[0;34m]\u001B[0m\u001B[0;34m)\u001B[0m\u001B[0;34m\u001B[0m\u001B[0;34m\u001B[0m\u001B[0m\n\u001B[1;32m      4\u001B[0m \u001B[0;34m\u001B[0m\u001B[0m\n",
      "\u001B[0;31mNameError\u001B[0m: name 'cp' is not defined"
     ]
    }
   ],
   "source": [
    "b = cp.copy(x) # x.copy(), x[:]\n",
    "is_same_id(x, b)\n",
    "is_same_id(x[0], b[0])"
   ],
   "metadata": {
    "collapsed": false,
    "pycharm": {
     "name": "#%%\n"
    }
   }
  },
  {
   "cell_type": "code",
   "execution_count": 13,
   "outputs": [
    {
     "ename": "NameError",
     "evalue": "name 'cp' is not defined",
     "output_type": "error",
     "traceback": [
      "\u001B[0;31m---------------------------------------------------------------------------\u001B[0m",
      "\u001B[0;31mNameError\u001B[0m                                 Traceback (most recent call last)",
      "\u001B[0;32m/var/folders/z_/fl1l3lj16n55t2wwqw4xkcw80000gn/T/ipykernel_61669/4106209290.py\u001B[0m in \u001B[0;36m<module>\u001B[0;34m\u001B[0m\n\u001B[0;32m----> 1\u001B[0;31m \u001B[0mc\u001B[0m \u001B[0;34m=\u001B[0m \u001B[0mcp\u001B[0m\u001B[0;34m.\u001B[0m\u001B[0mdeepcopy\u001B[0m\u001B[0;34m(\u001B[0m\u001B[0mx\u001B[0m\u001B[0;34m)\u001B[0m\u001B[0;34m\u001B[0m\u001B[0;34m\u001B[0m\u001B[0m\n\u001B[0m\u001B[1;32m      2\u001B[0m \u001B[0mis_same_id\u001B[0m\u001B[0;34m(\u001B[0m\u001B[0mx\u001B[0m\u001B[0;34m,\u001B[0m \u001B[0mc\u001B[0m\u001B[0;34m)\u001B[0m\u001B[0;34m\u001B[0m\u001B[0;34m\u001B[0m\u001B[0m\n\u001B[1;32m      3\u001B[0m \u001B[0mis_same_id\u001B[0m\u001B[0;34m(\u001B[0m\u001B[0mx\u001B[0m\u001B[0;34m[\u001B[0m\u001B[0;36m0\u001B[0m\u001B[0;34m]\u001B[0m\u001B[0;34m,\u001B[0m \u001B[0mc\u001B[0m\u001B[0;34m[\u001B[0m\u001B[0;36m0\u001B[0m\u001B[0;34m]\u001B[0m\u001B[0;34m)\u001B[0m\u001B[0;34m\u001B[0m\u001B[0;34m\u001B[0m\u001B[0m\n\u001B[1;32m      4\u001B[0m \u001B[0;34m\u001B[0m\u001B[0m\n",
      "\u001B[0;31mNameError\u001B[0m: name 'cp' is not defined"
     ]
    }
   ],
   "source": [
    "c = cp.deepcopy(x)\n",
    "is_same_id(x, c)\n",
    "is_same_id(x[0], c[0])"
   ],
   "metadata": {
    "collapsed": false,
    "pycharm": {
     "name": "#%%\n"
    }
   }
  },
  {
   "cell_type": "markdown",
   "source": [
    "# 레퍼런스\n",
    "\n",
    "### Datacamp Youtube\n",
    "[Python Tutorial: Pass by assignment](https://www.youtube.com/watch?v=m8YbXbcFLNc)\n",
    "\n",
    "\n",
    "### Blog\n",
    "[Deep copy & Shallow copy](https://engkimbs.tistory.com/667)"
   ],
   "metadata": {
    "collapsed": false
   }
  },
  {
   "cell_type": "markdown",
   "source": [
    "# mutable & immutable parameter\n",
    "## 들어가기\n",
    "### 개념\n",
    "- default parameter\n",
    "- scope\n",
    "- mutable / immutable\n",
    "\n",
    "## Default parameter"
   ],
   "metadata": {
    "collapsed": false
   }
  },
  {
   "cell_type": "markdown",
   "source": [
    "## Mutable & Immutable parameter\n",
    "### Mutable\n",
    "값을 변경할 수 있는 자료형"
   ],
   "metadata": {
    "collapsed": false
   }
  },
  {
   "cell_type": "code",
   "execution_count": null,
   "outputs": [],
   "source": [
    "a = [1, 2, 3]\n",
    "a[0] = 4\n",
    "a"
   ],
   "metadata": {
    "collapsed": false,
    "pycharm": {
     "name": "#%%\n"
    }
   }
  },
  {
   "cell_type": "code",
   "execution_count": null,
   "outputs": [],
   "source": [
    "a = (1, 2, 3)\n",
    "a[0] = 4\n",
    "a"
   ],
   "metadata": {
    "collapsed": false,
    "pycharm": {
     "name": "#%%\n"
    }
   }
  },
  {
   "cell_type": "code",
   "execution_count": null,
   "outputs": [],
   "source": [
    "a = [1, 2, 3]\n",
    "b = a\n",
    "b[0] = 4\n",
    "a"
   ],
   "metadata": {
    "collapsed": false,
    "pycharm": {
     "name": "#%%\n"
    }
   }
  },
  {
   "cell_type": "markdown",
   "source": [
    "### 해결책\n",
    "```python\n",
    "import copy as cp\n",
    "\n",
    "### shallow copy (얕은 복사)\n",
    "list(a)\n",
    "a[:]\n",
    "a.copy()\n",
    "cp.copy(a)\n",
    "\n",
    "### deep copy (깊은복사)\n",
    "cp.deepcopy(a)\n",
    "```"
   ],
   "metadata": {
    "collapsed": false
   }
  },
  {
   "cell_type": "markdown",
   "source": [
    "### scope\n",
    "scope는 변수가 유효한 구역을 의미함. 함수안에 들어가면 지역, 함수밖에서는 전역.\n",
    "\n",
    "함수안에 들어간 변수는 지역변수, 함수밖에서는 전역변수.\n",
    "\n",
    "\n",
    "※ argument는 인자, parameter는 매개변수라고 부름\n",
    "\n",
    "argument는 var로 전해지는 것이 인자. 매개변수는 함수 스코프 안에서 변수가 매개변수\n",
    "### mutable argument, immutable argument"
   ],
   "metadata": {
    "collapsed": false
   }
  },
  {
   "cell_type": "code",
   "execution_count": null,
   "outputs": [],
   "source": [
    "def foo(x, y):\n",
    "    x[0] = 99\n",
    "    print(id(x) == y)\n",
    "\n",
    "my_list = [1,2,3]\n",
    "foo(my_list, id(my_list))\n",
    "my_list"
   ],
   "metadata": {
    "collapsed": false,
    "pycharm": {
     "name": "#%%\n"
    }
   }
  },
  {
   "cell_type": "code",
   "execution_count": null,
   "outputs": [],
   "source": [
    "def bar(x, y):\n",
    "    x = x + 10\n",
    "    print(id(x) == y)\n",
    "\n",
    "my_var = 3\n",
    "bar(my_var, id(my_var))\n",
    "my_var"
   ],
   "metadata": {
    "collapsed": false,
    "pycharm": {
     "name": "#%%\n"
    }
   }
  },
  {
   "cell_type": "markdown",
   "source": [
    "mutable argument는 parmeter와 동일하지만,\n",
    "\n",
    "immutable한 argument는 parameter와 다르다!\n",
    "\n",
    "## 심화\n",
    "## Default parameter"
   ],
   "metadata": {
    "collapsed": false
   }
  },
  {
   "cell_type": "code",
   "execution_count": null,
   "outputs": [],
   "source": [
    "def calculator_kr(arg1, arg2, cmd='더하기'):\n",
    "    if cmd == '더하기':\n",
    "        return arg1 + arg2\n",
    "    elif cmd == '빼기':\n",
    "        return arg1 - arg2\n",
    "\n",
    "calculator_kr(3, 4, '더하기')"
   ],
   "metadata": {
    "collapsed": false,
    "pycharm": {
     "name": "#%%\n"
    }
   }
  },
  {
   "cell_type": "code",
   "execution_count": null,
   "outputs": [],
   "source": [
    "calculator_kr(4, 3, '빼기')"
   ],
   "metadata": {
    "collapsed": false,
    "pycharm": {
     "name": "#%%\n"
    }
   }
  },
  {
   "cell_type": "code",
   "execution_count": null,
   "outputs": [],
   "source": [
    "calculator_kr(3, 4)"
   ],
   "metadata": {
    "collapsed": false,
    "pycharm": {
     "name": "#%%\n"
    }
   }
  },
  {
   "cell_type": "markdown",
   "source": [
    "### 예시\n",
    "우리가 흔히 사용하는 print도 여러가지 디폴트 매개변수가 있음\n",
    "대표적으로 인자간 출력되는 간격인 sep은 ' ' -> 띄어쓰기. 마침표인 end는 '\\n' -> 엔터"
   ],
   "metadata": {
    "collapsed": false
   }
  },
  {
   "cell_type": "code",
   "execution_count": null,
   "outputs": [],
   "source": [
    "help(print)"
   ],
   "metadata": {
    "collapsed": false,
    "pycharm": {
     "name": "#%%\n"
    }
   }
  },
  {
   "cell_type": "markdown",
   "source": [
    "### empty list default argument"
   ],
   "metadata": {
    "collapsed": false
   }
  },
  {
   "cell_type": "code",
   "execution_count": null,
   "outputs": [],
   "source": [
    "def foo(var=[]):\n",
    "    var.append(1)\n",
    "    return var\n",
    "foo()"
   ],
   "metadata": {
    "collapsed": false,
    "pycharm": {
     "name": "#%%\n"
    }
   }
  },
  {
   "cell_type": "code",
   "execution_count": null,
   "outputs": [],
   "source": [
    "foo()"
   ],
   "metadata": {
    "collapsed": false,
    "pycharm": {
     "name": "#%%\n"
    }
   }
  },
  {
   "cell_type": "code",
   "execution_count": null,
   "outputs": [],
   "source": [
    "foo()"
   ],
   "metadata": {
    "collapsed": false,
    "pycharm": {
     "name": "#%%\n"
    }
   }
  },
  {
   "cell_type": "code",
   "execution_count": null,
   "outputs": [],
   "source": [
    "def foo(var=None):\n",
    "    if var is None:\n",
    "        var = []\n",
    "    var.append(1)\n",
    "    return var\n",
    "foo()"
   ],
   "metadata": {
    "collapsed": false,
    "pycharm": {
     "name": "#%%\n"
    }
   }
  },
  {
   "cell_type": "code",
   "execution_count": null,
   "outputs": [],
   "source": [
    "foo()"
   ],
   "metadata": {
    "collapsed": false,
    "pycharm": {
     "name": "#%%\n"
    }
   }
  },
  {
   "cell_type": "code",
   "execution_count": null,
   "outputs": [],
   "source": [
    "dir()"
   ],
   "metadata": {
    "collapsed": false,
    "pycharm": {
     "name": "#%%\n"
    }
   }
  },
  {
   "cell_type": "code",
   "execution_count": null,
   "outputs": [],
   "source": [
    "hello1 = hello2 = 42"
   ],
   "metadata": {
    "collapsed": false,
    "pycharm": {
     "name": "#%%\n"
    }
   }
  },
  {
   "cell_type": "code",
   "execution_count": null,
   "outputs": [],
   "source": [
    "hello1"
   ],
   "metadata": {
    "collapsed": false,
    "pycharm": {
     "name": "#%%\n"
    }
   }
  },
  {
   "cell_type": "code",
   "execution_count": null,
   "outputs": [],
   "source": [
    "votes = {\n",
    "    '바게트': ['철수', '순이'],\n",
    "    '치아바타': ['하니', '유리'],\n",
    "}\n",
    "key = '브리오슈'\n",
    "who = '단이'\n",
    "\n",
    "if key in votes:\n",
    "    names = votes[key]\n",
    "else:\n",
    "    votes[key] = names = []\n",
    "\n",
    "names.append(who)\n",
    "print(votes)"
   ],
   "metadata": {
    "collapsed": false,
    "pycharm": {
     "name": "#%%\n"
    }
   }
  },
  {
   "cell_type": "code",
   "execution_count": null,
   "outputs": [],
   "source": [
    "\n",
    "a = [3,2,4]"
   ],
   "metadata": {
    "collapsed": false,
    "pycharm": {
     "name": "#%%\n"
    }
   }
  },
  {
   "cell_type": "code",
   "execution_count": null,
   "outputs": [],
   "source": [
    "a.sort()"
   ],
   "metadata": {
    "collapsed": false,
    "pycharm": {
     "name": "#%%\n"
    }
   }
  },
  {
   "cell_type": "code",
   "execution_count": null,
   "outputs": [],
   "source": [
    "print(a)\n",
    "b = a.sort()"
   ],
   "metadata": {
    "collapsed": false,
    "pycharm": {
     "name": "#%%\n"
    }
   }
  },
  {
   "cell_type": "code",
   "execution_count": null,
   "outputs": [],
   "source": [
    "b"
   ],
   "metadata": {
    "collapsed": false,
    "pycharm": {
     "name": "#%%\n"
    }
   }
  },
  {
   "cell_type": "code",
   "execution_count": null,
   "outputs": [],
   "source": [
    "print(b)"
   ],
   "metadata": {
    "collapsed": false,
    "pycharm": {
     "name": "#%%\n"
    }
   }
  },
  {
   "cell_type": "code",
   "execution_count": null,
   "outputs": [],
   "source": [
    "print(id(a))\n",
    "a += [5]\n",
    "print(id(a))"
   ],
   "metadata": {
    "collapsed": false,
    "pycharm": {
     "name": "#%%\n"
    }
   }
  },
  {
   "cell_type": "code",
   "execution_count": null,
   "outputs": [],
   "source": [
    "b = (1,2)"
   ],
   "metadata": {
    "collapsed": false,
    "pycharm": {
     "name": "#%%\n"
    }
   }
  },
  {
   "cell_type": "code",
   "execution_count": null,
   "outputs": [],
   "source": [
    "print(id(b))\n",
    "b += (3, )\n",
    "print(id(b))"
   ],
   "metadata": {
    "collapsed": false,
    "pycharm": {
     "name": "#%%\n"
    }
   }
  },
  {
   "cell_type": "code",
   "execution_count": null,
   "outputs": [],
   "source": [
    "c = ([1,2], 2, 3)"
   ],
   "metadata": {
    "collapsed": false,
    "pycharm": {
     "name": "#%%\n"
    }
   }
  },
  {
   "cell_type": "code",
   "execution_count": null,
   "outputs": [],
   "source": [
    "c[0].extend([1])"
   ],
   "metadata": {
    "collapsed": false,
    "pycharm": {
     "name": "#%%\n"
    }
   }
  },
  {
   "cell_type": "code",
   "execution_count": null,
   "outputs": [],
   "source": [
    "print(c)"
   ],
   "metadata": {
    "collapsed": false,
    "pycharm": {
     "name": "#%%\n"
    }
   }
  },
  {
   "cell_type": "code",
   "execution_count": null,
   "outputs": [],
   "source": [
    "c[0] += [4]"
   ],
   "metadata": {
    "collapsed": false,
    "pycharm": {
     "name": "#%%\n"
    }
   }
  },
  {
   "cell_type": "code",
   "execution_count": null,
   "outputs": [],
   "source": [
    "print(id(c[0]))\n",
    "c[0].__iadd__([5])\n",
    "print(id(c[0]))"
   ],
   "metadata": {
    "collapsed": false,
    "pycharm": {
     "name": "#%%\n"
    }
   }
  },
  {
   "cell_type": "code",
   "execution_count": 8,
   "outputs": [],
   "source": [
    "a = [1,2,3]"
   ],
   "metadata": {
    "collapsed": false,
    "pycharm": {
     "name": "#%%\n"
    }
   }
  },
  {
   "cell_type": "code",
   "execution_count": 9,
   "outputs": [
    {
     "name": "stdout",
     "output_type": "stream",
     "text": [
      "4532767808\n"
     ]
    }
   ],
   "source": [
    "print(id(a))"
   ],
   "metadata": {
    "collapsed": false,
    "pycharm": {
     "name": "#%%\n"
    }
   }
  },
  {
   "cell_type": "code",
   "execution_count": null,
   "outputs": [],
   "source": [],
   "metadata": {
    "collapsed": false,
    "pycharm": {
     "name": "#%%\n"
    }
   }
  }
 ],
 "metadata": {
  "kernelspec": {
   "display_name": "Python 3",
   "language": "python",
   "name": "python3"
  },
  "language_info": {
   "codemirror_mode": {
    "name": "ipython",
    "version": 2
   },
   "file_extension": ".py",
   "mimetype": "text/x-python",
   "name": "python",
   "nbconvert_exporter": "python",
   "pygments_lexer": "ipython2",
   "version": "2.7.6"
  }
 },
 "nbformat": 4,
 "nbformat_minor": 0
}