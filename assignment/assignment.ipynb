{
 "cells": [
  {
   "cell_type": "code",
   "execution_count": null,
   "outputs": [],
   "source": [
    "from IPython.display import Image"
   ],
   "metadata": {
    "collapsed": false,
    "pycharm": {
     "name": "#%%\n"
    }
   }
  },
  {
   "cell_type": "markdown",
   "source": [
    "# Assignment\n",
    "---\n",
    "\n",
    "### 이 글을 통해 배우는 개념\n",
    "- assignment\n",
    "- mutable & immutable\n",
    "- call by assignment\n",
    "- argument & parameter\n",
    "\n",
    "### 글을 읽고 바라는 정도\n",
    "\n",
    "- 나중에 코딩을 하다가 *'아.. 저번에 걔가 말한게 이거구나'* 하고 환기"
   ],
   "metadata": {
    "collapsed": false
   }
  },
  {
   "cell_type": "markdown",
   "source": [
    "# assignment\n",
    "---\n",
    "### 들어가기\n",
    "- 나는 아래 코드를 설명할 수 있다.\n",
    "\n",
    "    -> 다음으로 넘어가시거나, 얘가 설명 잘하나 검사하시면 됩니다"
   ],
   "metadata": {
    "collapsed": false,
    "pycharm": {
     "name": "#%% md\n"
    }
   }
  },
  {
   "cell_type": "code",
   "execution_count": 1,
   "outputs": [
    {
     "name": "stdout",
     "output_type": "stream",
     "text": [
      "[4, 2, 3]\n"
     ]
    }
   ],
   "source": [
    "# 각각의 번호에 해당하는 코드들이 무얼하는 걸까요? 왜 4번의 결과가 나왔을까요?\n",
    "# 1.\n",
    "a = [1, 2, 3]\n",
    "\n",
    "# 2.\n",
    "b = a\n",
    "\n",
    "# 3.\n",
    "b[0] = 4\n",
    "\n",
    "# 4. OUTPUT\n",
    "print(a) # [4, 2, 3]"
   ],
   "metadata": {
    "collapsed": false,
    "pycharm": {
     "name": "#%%\n"
    }
   }
  },
  {
   "cell_type": "markdown",
   "source": [
    "**나름대로 설명을 해보셨나요? 제가 한 번 설명을 해보겠습니다.**\n",
    "    1. [1, 2, 3] 이라는 리스트를 a에 할당을 했습니다.\n",
    "    2. a라는 변수를 b에 할당을 했습니다.\n",
    "    3. 4라는 값을 (b의 0번째 인덱스 / b리스트의 첫번째 원소)에 할당을 했습니다.\n",
    "    4. a를 출력하였고 [4, 2, 3] 출력이 되었습니다.\n",
    "\n",
    "**왜 [4, 2, 3]이 출력이 되었는가?**\n",
    "\n",
    "    - b와 a에 할당된 list, [1, 2, 3]이 mutable한 type이기 때문입니다.\n",
    "\n",
    "위의 문장이 받아들여 지시면 다음으로 넘어가시면 됩니다. 조금이라도 헷갈리신다면, 다음 공식ㅁ\n",
    "\n",
    "[파이썬 공식문서 FAQ, 리스트 y를 변경할 때 리스트 x도 변경되는 이유는 무엇입니까?](https://docs.python.org/ko/3/faq/programming.html#id17)\n",
    "\n",
    "\n"
   ],
   "metadata": {
    "collapsed": false,
    "pycharm": {
     "name": "#%% md\n"
    }
   }
  },
  {
   "cell_type": "code",
   "execution_count": null,
   "outputs": [],
   "source": [
    "Image(\"../imgs/week1_1.png\")"
   ],
   "metadata": {
    "collapsed": false,
    "pycharm": {
     "name": "#%%\n"
    }
   }
  },
  {
   "cell_type": "code",
   "execution_count": null,
   "outputs": [],
   "source": [
    "Image(\"../imgs/week1_2.png\")"
   ],
   "metadata": {
    "collapsed": false,
    "pycharm": {
     "name": "#%%\n"
    }
   }
  },
  {
   "cell_type": "markdown",
   "source": [
    "### Assignment\n",
    "\n",
    "**정의**\n",
    "\n",
    "단순 할당 연산자 (=)만 가지고 하는 연산. `b = a`\n",
    "\n",
    "-> a를 b라고도 부르겠다, b는 a의 또다른 이름이다.\n",
    "\n",
    "- 변수를 대입(assignment)하는 과정이 '복사'를 하는 것이 아니라 '**참조**'를 하는 과정임.\n",
    "\n",
    "- 그저 해당하는 메모리에 이름이 하나 더 생긴 것. (reference)\n",
    "\n"
   ],
   "metadata": {
    "collapsed": false
   }
  },
  {
   "cell_type": "markdown",
   "source": [
    "### 메모리영역 확인\n",
    "**한 메모리를 부르는 이름의 개수 확인**"
   ],
   "metadata": {
    "collapsed": false
   }
  },
  {
   "cell_type": "code",
   "execution_count": null,
   "outputs": [],
   "source": [
    "#getrefcount == get_reference_count == 레퍼런스(이름)의 개수를 세어줌\n",
    "import sys\n",
    "a = ['a','b','c']\n",
    "print(sys.getrefcount(a))\n",
    "b = a\n",
    "print(sys.getrefcount(a))\n",
    "b = list(a[:])\n",
    "print(sys.getrefcount(a))"
   ],
   "metadata": {
    "collapsed": false,
    "pycharm": {
     "name": "#%%\n"
    }
   }
  },
  {
   "cell_type": "markdown",
   "source": [
    "### Id()"
   ],
   "metadata": {
    "collapsed": false
   }
  },
  {
   "cell_type": "code",
   "execution_count": null,
   "outputs": [],
   "source": [
    "# python help\n",
    "help(id)"
   ],
   "metadata": {
    "collapsed": false,
    "pycharm": {
     "name": "#%%\n"
    }
   }
  },
  {
   "cell_type": "code",
   "execution_count": null,
   "outputs": [],
   "source": [
    "x = [\"a\", \"b\", \"c\"]\n",
    "print(id(x))"
   ],
   "metadata": {
    "collapsed": false,
    "pycharm": {
     "name": "#%%\n"
    }
   }
  },
  {
   "cell_type": "code",
   "execution_count": null,
   "outputs": [],
   "source": [
    "# x라는 이름 말고도 y라는 이름으로 부를래!\n",
    "y = x\n",
    "print(id(y))"
   ],
   "metadata": {
    "collapsed": false,
    "pycharm": {
     "name": "#%%\n"
    }
   }
  },
  {
   "cell_type": "code",
   "execution_count": null,
   "outputs": [],
   "source": [
    "# 리스트의 요소하나를 바꾸어도, 리스트 전체의 주소가 변하진 않음\n",
    "y[1] = \"z\"\n",
    "print(id(x))\n",
    "print(id(y))\n",
    "print(x)"
   ],
   "metadata": {
    "collapsed": false,
    "pycharm": {
     "name": "#%%\n"
    }
   }
  },
  {
   "cell_type": "markdown",
   "source": [
    "### copy\n",
    "단일 할당 연산자(=)만 쓰이지 않음"
   ],
   "metadata": {
    "collapsed": false
   }
  },
  {
   "cell_type": "code",
   "execution_count": null,
   "outputs": [],
   "source": [
    "# list(x[:])는 x와 같은 값을 복사한 것임\n",
    "print(id(x))\n",
    "print(id(list(x)))"
   ],
   "metadata": {
    "collapsed": false,
    "pycharm": {
     "name": "#%%\n"
    }
   }
  },
  {
   "cell_type": "code",
   "execution_count": null,
   "outputs": [],
   "source": [
    "# 다른 방법들\n",
    "print(id(x[:]))\n",
    "print(id(x.copy))\n",
    "\n",
    "import copy as cp\n",
    "print(id(cp.copy(x)))"
   ],
   "metadata": {
    "collapsed": false,
    "pycharm": {
     "name": "#%%\n"
    }
   }
  },
  {
   "cell_type": "code",
   "execution_count": null,
   "outputs": [],
   "source": [
    "# x와 값이 동일하지만 다른 (실제로 다른 메모리에 따로 저장된) 리스트를 만들고 y라 부를래!\n",
    "y = list(x) # x[:], x.copy() 다른 방법들\n",
    "print(id(x))\n",
    "print(id(y))"
   ],
   "metadata": {
    "collapsed": false,
    "pycharm": {
     "name": "#%%\n"
    }
   }
  },
  {
   "cell_type": "markdown",
   "source": [
    "모든 자료형이 위와 같은 assignment와 copy가 있는건가?\n",
    "\n",
    "    -> List가 Mutable한 변수이기 때문에 해당. Immutable한 변수들은 애초에 값이 변경이 안 됨\n",
    "\n",
    "### Mutable\n",
    "\n",
    "**정의**\n",
    "\n",
    "값을 변경할 수 있는 자료형."
   ],
   "metadata": {
    "collapsed": false
   }
  },
  {
   "cell_type": "code",
   "execution_count": null,
   "outputs": [],
   "source": [
    "# immutable한 자료형인 tuple의 값을 변경하려고 시도\n",
    "a = (3, 4)\n",
    "a[0] = 1"
   ],
   "metadata": {
    "collapsed": false,
    "pycharm": {
     "name": "#%%\n"
    }
   }
  },
  {
   "cell_type": "markdown",
   "source": [
    "Mutable - 리스트, 딕셔너리, numpy의 배열\n",
    "\n",
    "Immutable - 숫자, 문자열, 튜플\n",
    "\n",
    "copy 대신 할당을 하면 어떤 문제가 생길까?\n",
    "\n",
    "    -> Mutable(값을 변경할 수 있는) 자료형을 다룰 때 문제가 됨.\n",
    "\n",
    "### Mutable한 자료형을 쓸 때 할당을 복사로 오해시 발생하는 문제\n",
    "\n",
    "이런 문제가 있을 수 있지 않을까?하는 저의 상상입니다.\n",
    "\n",
    "우리에게 머신러닝 모델의 파라미터를 조정한다고 가정"
   ],
   "metadata": {
    "collapsed": false
   }
  },
  {
   "cell_type": "code",
   "execution_count": null,
   "outputs": [],
   "source": [
    "# 치킨집의 치킨 판매량 예측\n",
    "data_columns = ['날짜', '요일', '계절', '날씨', '스포츠경기', '개학일']\n",
    "\n",
    "# data중에서 연관 있을거라 생각하는 것들 선별\n",
    "a = ['계절', '날씨', '스포츠경기']\n",
    "\n",
    "# 테스트를 해봄\n",
    "# ...\n",
    "\n",
    "# 스포츠경기보다는 근처 학교 개학일이 영향을 주지 않을까?\n",
    "a_test = a # copy라고 생각하고 test를 만들었지만, 사실은 assignment\n",
    "a_test[a.index('스포츠경기')] = '개학일'\n",
    "\n",
    "# a_test로 테스트를 마쳤다고 가정\n",
    "\n",
    "# 테스트를 해봤는데 소득이 없네.. 원래 a로 돌아와야겠다\n",
    "print(a)"
   ],
   "metadata": {
    "collapsed": false,
    "pycharm": {
     "name": "#%%\n"
    }
   }
  },
  {
   "cell_type": "markdown",
   "source": [
    "지금은 쉽게 티가나지만, 자료형이 더 복잡하고, 요인들로 생각하는 값들이 더 많다면?"
   ],
   "metadata": {
    "collapsed": false
   }
  },
  {
   "cell_type": "markdown",
   "source": [
    "### assignment 인것과 아닌것.\n",
    "\n",
    "**Is assignment,**\n",
    "\n",
    "    - a = b\n",
    "    - a = b (+,-,*,..) c\n",
    "        - ex) a = b + c, a = a + b\n",
    "    - 함수의 매개변수\n",
    "\n",
    "**Not assignment**\n",
    "\n",
    "    - 특정 내장함수(append 함수, copy 함수)\n",
    "    - copy.copy(변수)\n",
    "    - 슬라이싱\n",
    "        * ex) a = b[:]\n",
    "    - a (+,-,*..)= c\n",
    "        * ex) a += b"
   ],
   "metadata": {
    "collapsed": false
   }
  },
  {
   "cell_type": "code",
   "execution_count": null,
   "outputs": [],
   "source": [
    "#예외 사항\n",
    "\n",
    "x = [1,2,3]\n",
    "print('type of x', type(x))\n",
    "print('Id before assignment', id(x))\n",
    "x = x * 2\n",
    "print('Id After assignment', id(x))\n",
    "print(x)"
   ],
   "metadata": {
    "collapsed": false,
    "pycharm": {
     "name": "#%%\n"
    }
   }
  },
  {
   "cell_type": "code",
   "execution_count": null,
   "outputs": [],
   "source": [
    "x = [1,2,3]\n",
    "print('type of x', type(x))\n",
    "print('Id before assignment', id(x))\n",
    "x *= 2\n",
    "print('Id After assignment', id(x))\n",
    "print(x)"
   ],
   "metadata": {
    "collapsed": false,
    "pycharm": {
     "name": "#%%\n"
    }
   }
  },
  {
   "cell_type": "markdown",
   "source": [
    "### pass by assignment\n",
    "\n",
    "함수의 매개변수로 넘어갈 때, 함수 내부에 새로운 변수를 할당하는 것임"
   ],
   "metadata": {
    "collapsed": false
   }
  },
  {
   "cell_type": "code",
   "execution_count": null,
   "outputs": [],
   "source": [
    "# Immutable parameter\n",
    "def twice(x):\n",
    "    x *= 2\n",
    "\n",
    "x = 'hello'\n",
    "twice(x)\n",
    "print(x)"
   ],
   "metadata": {
    "collapsed": false,
    "pycharm": {
     "name": "#%%\n"
    }
   }
  },
  {
   "cell_type": "code",
   "execution_count": null,
   "outputs": [],
   "source": [
    "def twice(x):\n",
    "    print('In func, id of \"x\" is', id(x))\n",
    "    x *= 2\n",
    "    print('After assignment, id of \"x\" is', id(x))"
   ],
   "metadata": {
    "collapsed": false,
    "pycharm": {
     "name": "#%%\n"
    }
   }
  },
  {
   "cell_type": "code",
   "execution_count": null,
   "outputs": [],
   "source": [
    "x = 'hello'\n",
    "twice(x)\n",
    "print('id of \"x\" is', id(x))"
   ],
   "metadata": {
    "collapsed": false,
    "pycharm": {
     "name": "#%%\n"
    }
   }
  },
  {
   "cell_type": "code",
   "execution_count": null,
   "outputs": [],
   "source": [
    "# Mutable Parameter\n",
    "\n",
    "x = ['1', '2', '3']\n",
    "print('Before func, id of \"x\" is', id(x))\n",
    "twice(x)\n",
    "print('After func, id of \"x\" is', id(x))\n",
    "print('The value x is', x)"
   ],
   "metadata": {
    "collapsed": false,
    "pycharm": {
     "name": "#%%\n"
    }
   }
  },
  {
   "cell_type": "code",
   "execution_count": null,
   "outputs": [],
   "source": [
    "Image(\"../imgs/week1_3.png\")"
   ],
   "metadata": {
    "collapsed": false,
    "pycharm": {
     "name": "#%%\n"
    }
   }
  },
  {
   "cell_type": "code",
   "execution_count": null,
   "outputs": [],
   "source": [
    "Image(\"../imgs/week1_4.png\")"
   ],
   "metadata": {
    "collapsed": false,
    "pycharm": {
     "name": "#%%\n"
    }
   }
  },
  {
   "cell_type": "code",
   "execution_count": null,
   "outputs": [],
   "source": [
    "Image(\"../imgs/week1_5.png\")"
   ],
   "metadata": {
    "collapsed": false,
    "pycharm": {
     "name": "#%%\n"
    }
   }
  },
  {
   "cell_type": "markdown",
   "source": [
    "### 파이썬의 리터럴 상수\n",
    "**리스트 내부 값의 주소**"
   ],
   "metadata": {
    "collapsed": false
   }
  },
  {
   "cell_type": "code",
   "execution_count": null,
   "outputs": [],
   "source": [
    "z = [\"a\", \"b\", \"c\"]\n",
    "print(id(x[0]), id(x[1]), id(x[2]))\n",
    "print(id(y[0]), id(y[1]), id(y[2]))\n",
    "print(id(z[0]), id(z[1]), id(z[2]))"
   ],
   "metadata": {
    "collapsed": false,
    "pycharm": {
     "name": "#%%\n"
    }
   }
  },
  {
   "cell_type": "markdown",
   "source": [
    "### 리스트 안에 또 리스트"
   ],
   "metadata": {
    "collapsed": false
   }
  },
  {
   "cell_type": "code",
   "execution_count": null,
   "outputs": [],
   "source": [
    "a = [[1,2,3],(4,5),6]\n",
    "\n",
    "# a와 값이 동일하지만, 엄연히 다른 새로운 변수의 이름 b\n",
    "b = a[:]\n",
    "print(id(a))\n",
    "print(id(b))"
   ],
   "metadata": {
    "collapsed": false,
    "pycharm": {
     "name": "#%%\n"
    }
   }
  },
  {
   "cell_type": "code",
   "execution_count": null,
   "outputs": [],
   "source": [
    "# 내부 리스트는 이름이 같음!\n",
    "print(id(a[0]), id(a[1]), id(a[2]))\n",
    "print(id(b[0]), id(b[1]), id(b[2]))"
   ],
   "metadata": {
    "collapsed": false,
    "pycharm": {
     "name": "#%%\n"
    }
   }
  },
  {
   "cell_type": "markdown",
   "source": [
    "**리스트 안의 리스트 값 변경해보기**"
   ],
   "metadata": {
    "collapsed": false
   }
  },
  {
   "cell_type": "code",
   "execution_count": null,
   "outputs": [],
   "source": [
    "a[0][0] = 4\n",
    "print(id(a[0]))\n",
    "print(id(b[0]))\n",
    "print(a)\n",
    "print(b)"
   ],
   "metadata": {
    "collapsed": false,
    "pycharm": {
     "name": "#%%\n"
    }
   }
  },
  {
   "cell_type": "markdown",
   "source": [
    "### copy면 독립적인가?"
   ],
   "metadata": {
    "collapsed": false
   }
  },
  {
   "cell_type": "code",
   "execution_count": null,
   "outputs": [],
   "source": [
    "a = [[1,2,3],[4,5,6]]\n",
    "b = a.copy()\n",
    "\n",
    "b[0][0] = 7\n",
    "print(a)"
   ],
   "metadata": {
    "collapsed": false,
    "pycharm": {
     "name": "#%%\n"
    }
   }
  },
  {
   "cell_type": "markdown",
   "source": [
    "### copy와 deepcopy\n",
    "\n",
    "copy는 객체에 포함된 레퍼런스가 가르키는 값을 복사하지는 않음 (얕은 복사, shallow copy)"
   ],
   "metadata": {
    "collapsed": false
   }
  },
  {
   "cell_type": "code",
   "execution_count": null,
   "outputs": [],
   "source": [
    "#import copy 위에서 이미함\n",
    "x = [[1,2,3],[4,5,6],[7,8,9]]\n",
    "def is_same_id(a, b):\n",
    "    if id(a) == id(b):\n",
    "        print('메모리 주소(id)가 같습니다.')\n",
    "    else:\n",
    "        print('메모리 주소(id)가 다릅니다.')"
   ],
   "metadata": {
    "collapsed": false,
    "pycharm": {
     "name": "#%%\n"
    }
   }
  },
  {
   "cell_type": "code",
   "execution_count": null,
   "outputs": [],
   "source": [
    "a = x\n",
    "is_same_id(x, a)\n",
    "is_same_id(x[0], a[0])"
   ],
   "metadata": {
    "collapsed": false,
    "pycharm": {
     "name": "#%%\n"
    }
   }
  },
  {
   "cell_type": "code",
   "execution_count": null,
   "outputs": [],
   "source": [
    "b = cp.copy(x) # x.copy(), x[:]\n",
    "is_same_id(x, b)\n",
    "is_same_id(x[0], b[0])"
   ],
   "metadata": {
    "collapsed": false,
    "pycharm": {
     "name": "#%%\n"
    }
   }
  },
  {
   "cell_type": "code",
   "execution_count": null,
   "outputs": [],
   "source": [
    "c = cp.deepcopy(x)\n",
    "is_same_id(x, c)\n",
    "is_same_id(x[0], c[0])"
   ],
   "metadata": {
    "collapsed": false,
    "pycharm": {
     "name": "#%%\n"
    }
   }
  },
  {
   "cell_type": "markdown",
   "source": [
    "# 레퍼런스\n",
    "\n",
    "### Datacamp Youtube\n",
    "[Python Tutorial: Pass by assignment](https://www.youtube.com/watch?v=m8YbXbcFLNc)\n",
    "\n",
    "\n",
    "### Blog\n",
    "[Deep copy & Shallow copy](https://engkimbs.tistory.com/667)"
   ],
   "metadata": {
    "collapsed": false
   }
  },
  {
   "cell_type": "markdown",
   "source": [
    "# mutable & immutable parameter\n",
    "## 들어가기\n",
    "### 개념\n",
    "- default parameter\n",
    "- scope\n",
    "- mutable / immutable\n",
    "\n",
    "## Default parameter"
   ],
   "metadata": {
    "collapsed": false
   }
  },
  {
   "cell_type": "markdown",
   "source": [
    "## Mutable & Immutable parameter\n",
    "### Mutable\n",
    "값을 변경할 수 있는 자료형"
   ],
   "metadata": {
    "collapsed": false
   }
  },
  {
   "cell_type": "code",
   "execution_count": null,
   "outputs": [],
   "source": [
    "a = [1, 2, 3]\n",
    "a[0] = 4\n",
    "a"
   ],
   "metadata": {
    "collapsed": false,
    "pycharm": {
     "name": "#%%\n"
    }
   }
  },
  {
   "cell_type": "code",
   "execution_count": null,
   "outputs": [],
   "source": [
    "a = (1, 2, 3)\n",
    "a[0] = 4\n",
    "a"
   ],
   "metadata": {
    "collapsed": false,
    "pycharm": {
     "name": "#%%\n"
    }
   }
  },
  {
   "cell_type": "code",
   "execution_count": null,
   "outputs": [],
   "source": [
    "a = [1, 2, 3]\n",
    "b = a\n",
    "b[0] = 4\n",
    "a"
   ],
   "metadata": {
    "collapsed": false,
    "pycharm": {
     "name": "#%%\n"
    }
   }
  },
  {
   "cell_type": "markdown",
   "source": [
    "### 해결책\n",
    "```python\n",
    "import copy as cp\n",
    "\n",
    "### shallow copy (얕은 복사)\n",
    "list(a)\n",
    "a[:]\n",
    "a.copy()\n",
    "cp.copy(a)\n",
    "\n",
    "### deep copy (깊은복사)\n",
    "cp.deepcopy(a)\n",
    "```"
   ],
   "metadata": {
    "collapsed": false
   }
  },
  {
   "cell_type": "markdown",
   "source": [
    "### scope\n",
    "scope는 변수가 유효한 구역을 의미함. 함수안에 들어가면 지역, 함수밖에서는 전역.\n",
    "\n",
    "함수안에 들어간 변수는 지역변수, 함수밖에서는 전역변수.\n",
    "\n",
    "\n",
    "※ argument는 인자, parameter는 매개변수라고 부름\n",
    "\n",
    "argument는 var로 전해지는 것이 인자. 매개변수는 함수 스코프 안에서 변수가 매개변수\n",
    "### mutable argument, immutable argument"
   ],
   "metadata": {
    "collapsed": false
   }
  },
  {
   "cell_type": "code",
   "execution_count": null,
   "outputs": [],
   "source": [
    "def foo(x, y):\n",
    "    x[0] = 99\n",
    "    print(id(x) == y)\n",
    "\n",
    "my_list = [1,2,3]\n",
    "foo(my_list, id(my_list))\n",
    "my_list"
   ],
   "metadata": {
    "collapsed": false,
    "pycharm": {
     "name": "#%%\n"
    }
   }
  },
  {
   "cell_type": "code",
   "execution_count": null,
   "outputs": [],
   "source": [
    "def bar(x, y):\n",
    "    x = x + 10\n",
    "    print(id(x) == y)\n",
    "\n",
    "my_var = 3\n",
    "bar(my_var, id(my_var))\n",
    "my_var"
   ],
   "metadata": {
    "collapsed": false,
    "pycharm": {
     "name": "#%%\n"
    }
   }
  },
  {
   "cell_type": "markdown",
   "source": [
    "mutable argument는 parmeter와 동일하지만,\n",
    "\n",
    "immutable한 argument는 parameter와 다르다!\n",
    "\n",
    "## 심화\n",
    "## Default parameter"
   ],
   "metadata": {
    "collapsed": false
   }
  },
  {
   "cell_type": "code",
   "execution_count": null,
   "outputs": [],
   "source": [
    "def calculator_kr(arg1, arg2, cmd='더하기'):\n",
    "    if cmd == '더하기':\n",
    "        return arg1 + arg2\n",
    "    elif cmd == '빼기':\n",
    "        return arg1 - arg2\n",
    "\n",
    "calculator_kr(3, 4, '더하기')"
   ],
   "metadata": {
    "collapsed": false,
    "pycharm": {
     "name": "#%%\n"
    }
   }
  },
  {
   "cell_type": "code",
   "execution_count": null,
   "outputs": [],
   "source": [
    "calculator_kr(4, 3, '빼기')"
   ],
   "metadata": {
    "collapsed": false,
    "pycharm": {
     "name": "#%%\n"
    }
   }
  },
  {
   "cell_type": "code",
   "execution_count": null,
   "outputs": [],
   "source": [
    "calculator_kr(3, 4)"
   ],
   "metadata": {
    "collapsed": false,
    "pycharm": {
     "name": "#%%\n"
    }
   }
  },
  {
   "cell_type": "markdown",
   "source": [
    "### 예시\n",
    "우리가 흔히 사용하는 print도 여러가지 디폴트 매개변수가 있음\n",
    "대표적으로 인자간 출력되는 간격인 sep은 ' ' -> 띄어쓰기. 마침표인 end는 '\\n' -> 엔터"
   ],
   "metadata": {
    "collapsed": false
   }
  },
  {
   "cell_type": "code",
   "execution_count": null,
   "outputs": [],
   "source": [
    "help(print)"
   ],
   "metadata": {
    "collapsed": false,
    "pycharm": {
     "name": "#%%\n"
    }
   }
  },
  {
   "cell_type": "markdown",
   "source": [
    "### empty list default argument"
   ],
   "metadata": {
    "collapsed": false
   }
  },
  {
   "cell_type": "code",
   "execution_count": null,
   "outputs": [],
   "source": [
    "def foo(var=[]):\n",
    "    var.append(1)\n",
    "    return var\n",
    "foo()"
   ],
   "metadata": {
    "collapsed": false,
    "pycharm": {
     "name": "#%%\n"
    }
   }
  },
  {
   "cell_type": "code",
   "execution_count": null,
   "outputs": [],
   "source": [
    "foo()"
   ],
   "metadata": {
    "collapsed": false,
    "pycharm": {
     "name": "#%%\n"
    }
   }
  },
  {
   "cell_type": "code",
   "execution_count": null,
   "outputs": [],
   "source": [
    "foo()"
   ],
   "metadata": {
    "collapsed": false,
    "pycharm": {
     "name": "#%%\n"
    }
   }
  },
  {
   "cell_type": "code",
   "execution_count": 9,
   "outputs": [
    {
     "data": {
      "text/plain": "[1]"
     },
     "execution_count": 9,
     "metadata": {},
     "output_type": "execute_result"
    }
   ],
   "source": [
    "def foo(var=None):\n",
    "    if var is None:\n",
    "        var = []\n",
    "    var.append(1)\n",
    "    return var\n",
    "foo()"
   ],
   "metadata": {
    "collapsed": false,
    "pycharm": {
     "name": "#%%\n"
    }
   }
  },
  {
   "cell_type": "code",
   "execution_count": 10,
   "outputs": [
    {
     "data": {
      "text/plain": "[1]"
     },
     "execution_count": 10,
     "metadata": {},
     "output_type": "execute_result"
    }
   ],
   "source": [
    "foo()"
   ],
   "metadata": {
    "collapsed": false,
    "pycharm": {
     "name": "#%%\n"
    }
   }
  },
  {
   "cell_type": "code",
   "execution_count": 12,
   "outputs": [
    {
     "data": {
      "text/plain": "['In',\n 'Out',\n '_',\n '_10',\n '_11',\n '_2',\n '_3',\n '_6',\n '_8',\n '_9',\n '__',\n '___',\n '__builtin__',\n '__builtins__',\n '__doc__',\n '__loader__',\n '__name__',\n '__package__',\n '__spec__',\n '_dh',\n '_i',\n '_i1',\n '_i10',\n '_i11',\n '_i12',\n '_i2',\n '_i3',\n '_i4',\n '_i5',\n '_i6',\n '_i7',\n '_i8',\n '_i9',\n '_ih',\n '_ii',\n '_iii',\n '_oh',\n '_pydevd_bundle',\n 'a',\n 'b',\n 'exit',\n 'foo',\n 'get_ipython',\n 'quit',\n 'sys']"
     },
     "execution_count": 12,
     "metadata": {},
     "output_type": "execute_result"
    }
   ],
   "source": [
    "dir()"
   ],
   "metadata": {
    "collapsed": false,
    "pycharm": {
     "name": "#%%\n"
    }
   }
  },
  {
   "cell_type": "code",
   "execution_count": 13,
   "outputs": [],
   "source": [
    "hello1 = hello2 = 42"
   ],
   "metadata": {
    "collapsed": false,
    "pycharm": {
     "name": "#%%\n"
    }
   }
  },
  {
   "cell_type": "code",
   "execution_count": 14,
   "outputs": [
    {
     "data": {
      "text/plain": "42"
     },
     "execution_count": 14,
     "metadata": {},
     "output_type": "execute_result"
    }
   ],
   "source": [
    "hello1"
   ],
   "metadata": {
    "collapsed": false,
    "pycharm": {
     "name": "#%%\n"
    }
   }
  },
  {
   "cell_type": "code",
   "execution_count": 16,
   "outputs": [
    {
     "name": "stdout",
     "output_type": "stream",
     "text": [
      "{'바게트': ['철수', '순이'], '치아바타': ['하니', '유리'], '브리오슈': ['단이']}\n"
     ]
    }
   ],
   "source": [
    "votes = {\n",
    "    '바게트': ['철수', '순이'],\n",
    "    '치아바타': ['하니', '유리'],\n",
    "}\n",
    "key = '브리오슈'\n",
    "who = '단이'\n",
    "\n",
    "if key in votes:\n",
    "    names = votes[key]\n",
    "else:\n",
    "    votes[key] = names = []\n",
    "\n",
    "names.append(who)\n",
    "print(votes)"
   ],
   "metadata": {
    "collapsed": false,
    "pycharm": {
     "name": "#%%\n"
    }
   }
  },
  {
   "cell_type": "code",
   "execution_count": null,
   "outputs": [],
   "source": [],
   "metadata": {
    "collapsed": false,
    "pycharm": {
     "name": "#%%\n"
    }
   }
  }
 ],
 "metadata": {
  "kernelspec": {
   "display_name": "Python 3",
   "language": "python",
   "name": "python3"
  },
  "language_info": {
   "codemirror_mode": {
    "name": "ipython",
    "version": 2
   },
   "file_extension": ".py",
   "mimetype": "text/x-python",
   "name": "python",
   "nbconvert_exporter": "python",
   "pygments_lexer": "ipython2",
   "version": "2.7.6"
  }
 },
 "nbformat": 4,
 "nbformat_minor": 0
}