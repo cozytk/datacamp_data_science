{
 "cells": [
  {
   "cell_type": "code",
   "execution_count": 6,
   "outputs": [],
   "source": [
    "import numpy as np\n",
    "import pandas as pd"
   ],
   "metadata": {
    "collapsed": false,
    "pycharm": {
     "name": "#%%\n"
    }
   }
  },
  {
   "cell_type": "code",
   "execution_count": 10,
   "outputs": [
    {
     "data": {
      "text/plain": "['ABCD', 'EFGH']"
     },
     "execution_count": 10,
     "metadata": {},
     "output_type": "execute_result"
    }
   ],
   "source": [
    "list('ABCD')"
   ],
   "metadata": {
    "collapsed": false,
    "pycharm": {
     "name": "#%%\n"
    }
   }
  },
  {
   "cell_type": "code",
   "execution_count": 12,
   "outputs": [
    {
     "data": {
      "text/plain": "array([[19, 52, 26,  2, 48],\n       [56, 53, 77, 91, 32],\n       [ 7, 22, 63, 20, 62],\n       [49, 97, 48, 38, 28],\n       [19, 41, 58, 32, 58],\n       [35, 85, 50, 78, 16],\n       [38, 85, 90, 15, 35],\n       [46, 31, 62, 81,  1],\n       [74, 95, 71,  0, 60],\n       [44, 12, 73, 84, 46],\n       [ 6, 22, 82, 28, 35],\n       [ 2,  3, 34,  4, 85],\n       [58, 60, 75, 50, 65],\n       [92, 36, 40, 36, 47],\n       [49, 35, 45, 21, 99],\n       [70,  0, 37, 99, 35],\n       [26, 23, 35,  4, 27],\n       [15, 85, 13, 90, 98],\n       [49, 85, 19, 86, 36],\n       [72, 86, 49, 84, 36],\n       [65, 44, 74, 84, 66],\n       [43, 46, 26,  7, 24],\n       [82, 19, 52, 71, 75],\n       [69, 46, 42, 49, 40],\n       [56, 73, 91, 56, 20],\n       [69, 74, 70, 61, 50],\n       [94, 16, 76, 22,  7],\n       [45, 20, 49, 50, 77],\n       [30, 33,  6, 57,  1],\n       [87, 50,  9, 78, 99],\n       [95, 39,  9, 92, 40],\n       [57, 26, 36, 87, 84],\n       [79, 60,  6, 72, 37],\n       [93, 91, 54,  8, 33],\n       [ 0, 53,  8, 89, 77],\n       [94, 40, 23, 64, 39],\n       [76, 79,  5, 71,  0],\n       [27, 74, 90, 63, 37],\n       [64, 74, 36, 63, 40],\n       [73, 41, 11, 19,  8],\n       [18, 54, 88, 84, 44],\n       [78, 47, 64, 79, 11]])"
     },
     "execution_count": 12,
     "metadata": {},
     "output_type": "execute_result"
    }
   ],
   "source": [
    "np.random.randint(0,100,size=(42,5))"
   ],
   "metadata": {
    "collapsed": false,
    "pycharm": {
     "name": "#%%\n"
    }
   }
  },
  {
   "cell_type": "code",
   "execution_count": null,
   "outputs": [],
   "source": [
    "df = pd.DataFrame(np.random.randint(0,100,size=(50,4)), columns=list('ABCD'))\n",
    "df"
   ],
   "metadata": {
    "collapsed": false,
    "pycharm": {
     "name": "#%%\n"
    }
   }
  }
 ],
 "metadata": {
  "kernelspec": {
   "display_name": "Python 3",
   "language": "python",
   "name": "python3"
  },
  "language_info": {
   "codemirror_mode": {
    "name": "ipython",
    "version": 2
   },
   "file_extension": ".py",
   "mimetype": "text/x-python",
   "name": "python",
   "nbconvert_exporter": "python",
   "pygments_lexer": "ipython2",
   "version": "2.7.6"
  }
 },
 "nbformat": 4,
 "nbformat_minor": 0
}