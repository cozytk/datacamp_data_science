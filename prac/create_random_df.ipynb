{
 "cells": [
  {
   "cell_type": "code",
   "execution_count": 2,
   "outputs": [],
   "source": [
    "import numpy as np\n",
    "import pandas as pd"
   ],
   "metadata": {
    "collapsed": false,
    "pycharm": {
     "name": "#%%\n"
    }
   }
  },
  {
   "cell_type": "code",
   "execution_count": 3,
   "outputs": [
    {
     "data": {
      "text/plain": "['A', 'B', 'C', 'D']"
     },
     "execution_count": 3,
     "metadata": {},
     "output_type": "execute_result"
    }
   ],
   "source": [
    "list('ABCD')"
   ],
   "metadata": {
    "collapsed": false,
    "pycharm": {
     "name": "#%%\n"
    }
   }
  },
  {
   "cell_type": "code",
   "execution_count": 5,
   "outputs": [
    {
     "data": {
      "text/plain": "     A   B   C   D\n0   69  84   2  10\n1   93  25  18  40\n2   40  25  30  60\n3    7  43  58  75\n4    7  12  60  97\n5   90   9  42   8\n6   46  84  58  90\n7   60  83  92  57\n8   79  98  19  54\n9   54  26  96  81\n10  49  17  38  48\n11  72  69  12  53\n12  72  30  47  80\n13  33  24  26   3\n14  77  63  20  47\n15   9  26   0  18\n16  72  38  81  78\n17  96  69  82  63\n18  41   2  63  69\n19  58   7  39  41\n20  29  69  85  23\n21   8  17  65  98\n22  45   8  14  54\n23  96  93  90  29\n24  29  41  27  82\n25  95  45  55  96\n26   2  55  39   2\n27  16  40  97  89\n28  12  59  56  47\n29   0  15  62  17\n30  91  24  67   0\n31   5  73   8  99\n32  45  99  84  35\n33  25  77  65  18\n34  11  65  11  37\n35  56  65  47   9\n36  16  16  21  26\n37  58  22   9   7\n38  87  78  12  46\n39  81  44  73   0\n40  87  12  44  59\n41  65  13  10  97\n42  64  51  46  83\n43  77  58  26  97\n44  92  68  76  66\n45  43  71  25  65\n46  97  54  62  58\n47  94  42   0  62\n48  18  83   9  24\n49  30  23  58  56",
      "text/html": "<div>\n<style scoped>\n    .dataframe tbody tr th:only-of-type {\n        vertical-align: middle;\n    }\n\n    .dataframe tbody tr th {\n        vertical-align: top;\n    }\n\n    .dataframe thead th {\n        text-align: right;\n    }\n</style>\n<table border=\"1\" class=\"dataframe\">\n  <thead>\n    <tr style=\"text-align: right;\">\n      <th></th>\n      <th>A</th>\n      <th>B</th>\n      <th>C</th>\n      <th>D</th>\n    </tr>\n  </thead>\n  <tbody>\n    <tr>\n      <th>0</th>\n      <td>69</td>\n      <td>84</td>\n      <td>2</td>\n      <td>10</td>\n    </tr>\n    <tr>\n      <th>1</th>\n      <td>93</td>\n      <td>25</td>\n      <td>18</td>\n      <td>40</td>\n    </tr>\n    <tr>\n      <th>2</th>\n      <td>40</td>\n      <td>25</td>\n      <td>30</td>\n      <td>60</td>\n    </tr>\n    <tr>\n      <th>3</th>\n      <td>7</td>\n      <td>43</td>\n      <td>58</td>\n      <td>75</td>\n    </tr>\n    <tr>\n      <th>4</th>\n      <td>7</td>\n      <td>12</td>\n      <td>60</td>\n      <td>97</td>\n    </tr>\n    <tr>\n      <th>5</th>\n      <td>90</td>\n      <td>9</td>\n      <td>42</td>\n      <td>8</td>\n    </tr>\n    <tr>\n      <th>6</th>\n      <td>46</td>\n      <td>84</td>\n      <td>58</td>\n      <td>90</td>\n    </tr>\n    <tr>\n      <th>7</th>\n      <td>60</td>\n      <td>83</td>\n      <td>92</td>\n      <td>57</td>\n    </tr>\n    <tr>\n      <th>8</th>\n      <td>79</td>\n      <td>98</td>\n      <td>19</td>\n      <td>54</td>\n    </tr>\n    <tr>\n      <th>9</th>\n      <td>54</td>\n      <td>26</td>\n      <td>96</td>\n      <td>81</td>\n    </tr>\n    <tr>\n      <th>10</th>\n      <td>49</td>\n      <td>17</td>\n      <td>38</td>\n      <td>48</td>\n    </tr>\n    <tr>\n      <th>11</th>\n      <td>72</td>\n      <td>69</td>\n      <td>12</td>\n      <td>53</td>\n    </tr>\n    <tr>\n      <th>12</th>\n      <td>72</td>\n      <td>30</td>\n      <td>47</td>\n      <td>80</td>\n    </tr>\n    <tr>\n      <th>13</th>\n      <td>33</td>\n      <td>24</td>\n      <td>26</td>\n      <td>3</td>\n    </tr>\n    <tr>\n      <th>14</th>\n      <td>77</td>\n      <td>63</td>\n      <td>20</td>\n      <td>47</td>\n    </tr>\n    <tr>\n      <th>15</th>\n      <td>9</td>\n      <td>26</td>\n      <td>0</td>\n      <td>18</td>\n    </tr>\n    <tr>\n      <th>16</th>\n      <td>72</td>\n      <td>38</td>\n      <td>81</td>\n      <td>78</td>\n    </tr>\n    <tr>\n      <th>17</th>\n      <td>96</td>\n      <td>69</td>\n      <td>82</td>\n      <td>63</td>\n    </tr>\n    <tr>\n      <th>18</th>\n      <td>41</td>\n      <td>2</td>\n      <td>63</td>\n      <td>69</td>\n    </tr>\n    <tr>\n      <th>19</th>\n      <td>58</td>\n      <td>7</td>\n      <td>39</td>\n      <td>41</td>\n    </tr>\n    <tr>\n      <th>20</th>\n      <td>29</td>\n      <td>69</td>\n      <td>85</td>\n      <td>23</td>\n    </tr>\n    <tr>\n      <th>21</th>\n      <td>8</td>\n      <td>17</td>\n      <td>65</td>\n      <td>98</td>\n    </tr>\n    <tr>\n      <th>22</th>\n      <td>45</td>\n      <td>8</td>\n      <td>14</td>\n      <td>54</td>\n    </tr>\n    <tr>\n      <th>23</th>\n      <td>96</td>\n      <td>93</td>\n      <td>90</td>\n      <td>29</td>\n    </tr>\n    <tr>\n      <th>24</th>\n      <td>29</td>\n      <td>41</td>\n      <td>27</td>\n      <td>82</td>\n    </tr>\n    <tr>\n      <th>25</th>\n      <td>95</td>\n      <td>45</td>\n      <td>55</td>\n      <td>96</td>\n    </tr>\n    <tr>\n      <th>26</th>\n      <td>2</td>\n      <td>55</td>\n      <td>39</td>\n      <td>2</td>\n    </tr>\n    <tr>\n      <th>27</th>\n      <td>16</td>\n      <td>40</td>\n      <td>97</td>\n      <td>89</td>\n    </tr>\n    <tr>\n      <th>28</th>\n      <td>12</td>\n      <td>59</td>\n      <td>56</td>\n      <td>47</td>\n    </tr>\n    <tr>\n      <th>29</th>\n      <td>0</td>\n      <td>15</td>\n      <td>62</td>\n      <td>17</td>\n    </tr>\n    <tr>\n      <th>30</th>\n      <td>91</td>\n      <td>24</td>\n      <td>67</td>\n      <td>0</td>\n    </tr>\n    <tr>\n      <th>31</th>\n      <td>5</td>\n      <td>73</td>\n      <td>8</td>\n      <td>99</td>\n    </tr>\n    <tr>\n      <th>32</th>\n      <td>45</td>\n      <td>99</td>\n      <td>84</td>\n      <td>35</td>\n    </tr>\n    <tr>\n      <th>33</th>\n      <td>25</td>\n      <td>77</td>\n      <td>65</td>\n      <td>18</td>\n    </tr>\n    <tr>\n      <th>34</th>\n      <td>11</td>\n      <td>65</td>\n      <td>11</td>\n      <td>37</td>\n    </tr>\n    <tr>\n      <th>35</th>\n      <td>56</td>\n      <td>65</td>\n      <td>47</td>\n      <td>9</td>\n    </tr>\n    <tr>\n      <th>36</th>\n      <td>16</td>\n      <td>16</td>\n      <td>21</td>\n      <td>26</td>\n    </tr>\n    <tr>\n      <th>37</th>\n      <td>58</td>\n      <td>22</td>\n      <td>9</td>\n      <td>7</td>\n    </tr>\n    <tr>\n      <th>38</th>\n      <td>87</td>\n      <td>78</td>\n      <td>12</td>\n      <td>46</td>\n    </tr>\n    <tr>\n      <th>39</th>\n      <td>81</td>\n      <td>44</td>\n      <td>73</td>\n      <td>0</td>\n    </tr>\n    <tr>\n      <th>40</th>\n      <td>87</td>\n      <td>12</td>\n      <td>44</td>\n      <td>59</td>\n    </tr>\n    <tr>\n      <th>41</th>\n      <td>65</td>\n      <td>13</td>\n      <td>10</td>\n      <td>97</td>\n    </tr>\n    <tr>\n      <th>42</th>\n      <td>64</td>\n      <td>51</td>\n      <td>46</td>\n      <td>83</td>\n    </tr>\n    <tr>\n      <th>43</th>\n      <td>77</td>\n      <td>58</td>\n      <td>26</td>\n      <td>97</td>\n    </tr>\n    <tr>\n      <th>44</th>\n      <td>92</td>\n      <td>68</td>\n      <td>76</td>\n      <td>66</td>\n    </tr>\n    <tr>\n      <th>45</th>\n      <td>43</td>\n      <td>71</td>\n      <td>25</td>\n      <td>65</td>\n    </tr>\n    <tr>\n      <th>46</th>\n      <td>97</td>\n      <td>54</td>\n      <td>62</td>\n      <td>58</td>\n    </tr>\n    <tr>\n      <th>47</th>\n      <td>94</td>\n      <td>42</td>\n      <td>0</td>\n      <td>62</td>\n    </tr>\n    <tr>\n      <th>48</th>\n      <td>18</td>\n      <td>83</td>\n      <td>9</td>\n      <td>24</td>\n    </tr>\n    <tr>\n      <th>49</th>\n      <td>30</td>\n      <td>23</td>\n      <td>58</td>\n      <td>56</td>\n    </tr>\n  </tbody>\n</table>\n</div>"
     },
     "execution_count": 5,
     "metadata": {},
     "output_type": "execute_result"
    }
   ],
   "source": [
    "df = pd.DataFrame(np.random.randint(0,100,size=(50,4)), columns=list('ABCD'))\n",
    "df"
   ],
   "metadata": {
    "collapsed": false,
    "pycharm": {
     "name": "#%%\n"
    }
   }
  },
  {
   "cell_type": "code",
   "execution_count": 22,
   "outputs": [
    {
     "data": {
      "text/plain": "0     69\n1     93\n2     40\n3      7\n4      7\n5     90\n6     46\n7     60\n8     79\n9     54\n10    49\n11    72\n12    72\n13    33\n14    77\n15     9\n16    72\n17    96\n18    41\n19    58\n20    29\n21     8\n22    45\n23    96\n24    29\n25    95\n26     2\n27    16\n28    12\n29     0\n30    91\n31     5\n32    45\n33    25\n34    11\n35    56\n36    16\n37    58\n38    87\n39    81\n40    87\n41    65\n42    64\n43    77\n44    92\n45    43\n46    97\n47    94\n48    18\n49    30\nName: A, dtype: int64"
     },
     "execution_count": 22,
     "metadata": {},
     "output_type": "execute_result"
    }
   ],
   "source": [
    "df.loc[:,'A']"
   ],
   "metadata": {
    "collapsed": false,
    "pycharm": {
     "name": "#%%\n"
    }
   }
  },
  {
   "cell_type": "code",
   "execution_count": null,
   "outputs": [],
   "source": [],
   "metadata": {
    "collapsed": false,
    "pycharm": {
     "name": "#%%\n"
    }
   }
  }
 ],
 "metadata": {
  "kernelspec": {
   "display_name": "Python 3",
   "language": "python",
   "name": "python3"
  },
  "language_info": {
   "codemirror_mode": {
    "name": "ipython",
    "version": 2
   },
   "file_extension": ".py",
   "mimetype": "text/x-python",
   "name": "python",
   "nbconvert_exporter": "python",
   "pygments_lexer": "ipython2",
   "version": "2.7.6"
  }
 },
 "nbformat": 4,
 "nbformat_minor": 0
}