{
 "cells": [
  {
   "cell_type": "code",
   "execution_count": 2,
   "metadata": {
    "collapsed": true
   },
   "outputs": [],
   "source": [
    "import numpy as np\n",
    "import pandas as pd"
   ]
  },
  {
   "cell_type": "code",
   "execution_count": 3,
   "outputs": [
    {
     "data": {
      "text/plain": "    A   B   C   D\n0  13  57  89  32\n1  86  43  13   8\n2  93  91  62  15\n3  51  87  30  31\n4  45  56  45  65",
      "text/html": "<div>\n<style scoped>\n    .dataframe tbody tr th:only-of-type {\n        vertical-align: middle;\n    }\n\n    .dataframe tbody tr th {\n        vertical-align: top;\n    }\n\n    .dataframe thead th {\n        text-align: right;\n    }\n</style>\n<table border=\"1\" class=\"dataframe\">\n  <thead>\n    <tr style=\"text-align: right;\">\n      <th></th>\n      <th>A</th>\n      <th>B</th>\n      <th>C</th>\n      <th>D</th>\n    </tr>\n  </thead>\n  <tbody>\n    <tr>\n      <th>0</th>\n      <td>13</td>\n      <td>57</td>\n      <td>89</td>\n      <td>32</td>\n    </tr>\n    <tr>\n      <th>1</th>\n      <td>86</td>\n      <td>43</td>\n      <td>13</td>\n      <td>8</td>\n    </tr>\n    <tr>\n      <th>2</th>\n      <td>93</td>\n      <td>91</td>\n      <td>62</td>\n      <td>15</td>\n    </tr>\n    <tr>\n      <th>3</th>\n      <td>51</td>\n      <td>87</td>\n      <td>30</td>\n      <td>31</td>\n    </tr>\n    <tr>\n      <th>4</th>\n      <td>45</td>\n      <td>56</td>\n      <td>45</td>\n      <td>65</td>\n    </tr>\n  </tbody>\n</table>\n</div>"
     },
     "execution_count": 3,
     "metadata": {},
     "output_type": "execute_result"
    }
   ],
   "source": [
    "df = pd.DataFrame(np.random.randint(0, 100, size=(100,4)), columns=list('ABCD'))\n",
    "df.head()"
   ],
   "metadata": {
    "collapsed": false,
    "pycharm": {
     "name": "#%%\n"
    }
   }
  },
  {
   "cell_type": "code",
   "execution_count": 4,
   "outputs": [
    {
     "data": {
      "text/plain": "    A   B\n0  13  57\n1  86  43\n2  93  91\n3  51  87\n4  45  56",
      "text/html": "<div>\n<style scoped>\n    .dataframe tbody tr th:only-of-type {\n        vertical-align: middle;\n    }\n\n    .dataframe tbody tr th {\n        vertical-align: top;\n    }\n\n    .dataframe thead th {\n        text-align: right;\n    }\n</style>\n<table border=\"1\" class=\"dataframe\">\n  <thead>\n    <tr style=\"text-align: right;\">\n      <th></th>\n      <th>A</th>\n      <th>B</th>\n    </tr>\n  </thead>\n  <tbody>\n    <tr>\n      <th>0</th>\n      <td>13</td>\n      <td>57</td>\n    </tr>\n    <tr>\n      <th>1</th>\n      <td>86</td>\n      <td>43</td>\n    </tr>\n    <tr>\n      <th>2</th>\n      <td>93</td>\n      <td>91</td>\n    </tr>\n    <tr>\n      <th>3</th>\n      <td>51</td>\n      <td>87</td>\n    </tr>\n    <tr>\n      <th>4</th>\n      <td>45</td>\n      <td>56</td>\n    </tr>\n  </tbody>\n</table>\n</div>"
     },
     "execution_count": 4,
     "metadata": {},
     "output_type": "execute_result"
    }
   ],
   "source": [
    "df_b = df[['A', 'B']]\n",
    "df_b.head()"
   ],
   "metadata": {
    "collapsed": false,
    "pycharm": {
     "name": "#%%\n"
    }
   }
  },
  {
   "cell_type": "code",
   "execution_count": 5,
   "outputs": [
    {
     "name": "stderr",
     "output_type": "stream",
     "text": [
      "/Users/taekkim/datacamp/venv/lib/python3.8/site-packages/pandas/core/generic.py:5516: SettingWithCopyWarning: \n",
      "A value is trying to be set on a copy of a slice from a DataFrame.\n",
      "Try using .loc[row_indexer,col_indexer] = value instead\n",
      "\n",
      "See the caveats in the documentation: https://pandas.pydata.org/pandas-docs/stable/user_guide/indexing.html#returning-a-view-versus-a-copy\n",
      "  self[name] = value\n"
     ]
    },
    {
     "data": {
      "text/plain": "    A   B   C   D\n0  13  57  89  32\n1  86  43  13   8\n2  93  91  62  15\n3  51  87  30  31\n4  45  56  45  65",
      "text/html": "<div>\n<style scoped>\n    .dataframe tbody tr th:only-of-type {\n        vertical-align: middle;\n    }\n\n    .dataframe tbody tr th {\n        vertical-align: top;\n    }\n\n    .dataframe thead th {\n        text-align: right;\n    }\n</style>\n<table border=\"1\" class=\"dataframe\">\n  <thead>\n    <tr style=\"text-align: right;\">\n      <th></th>\n      <th>A</th>\n      <th>B</th>\n      <th>C</th>\n      <th>D</th>\n    </tr>\n  </thead>\n  <tbody>\n    <tr>\n      <th>0</th>\n      <td>13</td>\n      <td>57</td>\n      <td>89</td>\n      <td>32</td>\n    </tr>\n    <tr>\n      <th>1</th>\n      <td>86</td>\n      <td>43</td>\n      <td>13</td>\n      <td>8</td>\n    </tr>\n    <tr>\n      <th>2</th>\n      <td>93</td>\n      <td>91</td>\n      <td>62</td>\n      <td>15</td>\n    </tr>\n    <tr>\n      <th>3</th>\n      <td>51</td>\n      <td>87</td>\n      <td>30</td>\n      <td>31</td>\n    </tr>\n    <tr>\n      <th>4</th>\n      <td>45</td>\n      <td>56</td>\n      <td>45</td>\n      <td>65</td>\n    </tr>\n  </tbody>\n</table>\n</div>"
     },
     "execution_count": 5,
     "metadata": {},
     "output_type": "execute_result"
    }
   ],
   "source": [
    "df_b.B = 0\n",
    "df.head()"
   ],
   "metadata": {
    "collapsed": false,
    "pycharm": {
     "name": "#%%\n"
    }
   }
  },
  {
   "cell_type": "code",
   "execution_count": 6,
   "outputs": [
    {
     "data": {
      "text/plain": "    A  B\n0  13  0\n1  86  0\n2  93  0\n3  51  0\n4  45  0",
      "text/html": "<div>\n<style scoped>\n    .dataframe tbody tr th:only-of-type {\n        vertical-align: middle;\n    }\n\n    .dataframe tbody tr th {\n        vertical-align: top;\n    }\n\n    .dataframe thead th {\n        text-align: right;\n    }\n</style>\n<table border=\"1\" class=\"dataframe\">\n  <thead>\n    <tr style=\"text-align: right;\">\n      <th></th>\n      <th>A</th>\n      <th>B</th>\n    </tr>\n  </thead>\n  <tbody>\n    <tr>\n      <th>0</th>\n      <td>13</td>\n      <td>0</td>\n    </tr>\n    <tr>\n      <th>1</th>\n      <td>86</td>\n      <td>0</td>\n    </tr>\n    <tr>\n      <th>2</th>\n      <td>93</td>\n      <td>0</td>\n    </tr>\n    <tr>\n      <th>3</th>\n      <td>51</td>\n      <td>0</td>\n    </tr>\n    <tr>\n      <th>4</th>\n      <td>45</td>\n      <td>0</td>\n    </tr>\n  </tbody>\n</table>\n</div>"
     },
     "execution_count": 6,
     "metadata": {},
     "output_type": "execute_result"
    }
   ],
   "source": [
    "df_b.head()"
   ],
   "metadata": {
    "collapsed": false,
    "pycharm": {
     "name": "#%%\n"
    }
   }
  },
  {
   "cell_type": "code",
   "execution_count": 7,
   "outputs": [
    {
     "data": {
      "text/plain": "True"
     },
     "execution_count": 7,
     "metadata": {},
     "output_type": "execute_result"
    }
   ],
   "source": [
    "df_c = df\n",
    "id(df) == id(df_c)"
   ],
   "metadata": {
    "collapsed": false,
    "pycharm": {
     "name": "#%%\n"
    }
   }
  },
  {
   "cell_type": "markdown",
   "source": [
    "### 결론\n",
    "dataframe 에서 특정 열을 선택하여 할당하는 것은 list의 특정열을 할당하려는 시도와 같음\n",
    "-> 새로운 df를 만들고 copy하는 것에 해당\n",
    "\n",
    "### 더 배우기\n",
    "shallow copy or deep copy"
   ],
   "metadata": {
    "collapsed": false,
    "pycharm": {
     "name": "#%% md\n"
    }
   }
  }
 ],
 "metadata": {
  "kernelspec": {
   "display_name": "Python 3",
   "language": "python",
   "name": "python3"
  },
  "language_info": {
   "codemirror_mode": {
    "name": "ipython",
    "version": 2
   },
   "file_extension": ".py",
   "mimetype": "text/x-python",
   "name": "python",
   "nbconvert_exporter": "python",
   "pygments_lexer": "ipython2",
   "version": "2.7.6"
  }
 },
 "nbformat": 4,
 "nbformat_minor": 0
}