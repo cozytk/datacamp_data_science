{
 "cells": [
  {
   "cell_type": "code",
   "execution_count": 7,
   "outputs": [],
   "source": [
    "import numpy as np\n",
    "import pandas as pd"
   ],
   "metadata": {
    "collapsed": false,
    "pycharm": {
     "name": "#%%\n"
    }
   }
  },
  {
   "cell_type": "markdown",
   "source": [
    "# 괄호, loc, iloc 접근"
   ],
   "metadata": {
    "collapsed": false,
    "pycharm": {
     "name": "#%% md\n"
    }
   }
  },
  {
   "cell_type": "code",
   "execution_count": 65,
   "outputs": [
    {
     "data": {
      "text/plain": "        A   B   C   D   E\none    69  86  53  52  51\ntwo    41  66  61  95  60\nthree  94  67  27  95  10\nfour   51  41   8  90  52\nfive   75  51  88   9   3",
      "text/html": "<div>\n<style scoped>\n    .dataframe tbody tr th:only-of-type {\n        vertical-align: middle;\n    }\n\n    .dataframe tbody tr th {\n        vertical-align: top;\n    }\n\n    .dataframe thead th {\n        text-align: right;\n    }\n</style>\n<table border=\"1\" class=\"dataframe\">\n  <thead>\n    <tr style=\"text-align: right;\">\n      <th></th>\n      <th>A</th>\n      <th>B</th>\n      <th>C</th>\n      <th>D</th>\n      <th>E</th>\n    </tr>\n  </thead>\n  <tbody>\n    <tr>\n      <th>one</th>\n      <td>69</td>\n      <td>86</td>\n      <td>53</td>\n      <td>52</td>\n      <td>51</td>\n    </tr>\n    <tr>\n      <th>two</th>\n      <td>41</td>\n      <td>66</td>\n      <td>61</td>\n      <td>95</td>\n      <td>60</td>\n    </tr>\n    <tr>\n      <th>three</th>\n      <td>94</td>\n      <td>67</td>\n      <td>27</td>\n      <td>95</td>\n      <td>10</td>\n    </tr>\n    <tr>\n      <th>four</th>\n      <td>51</td>\n      <td>41</td>\n      <td>8</td>\n      <td>90</td>\n      <td>52</td>\n    </tr>\n    <tr>\n      <th>five</th>\n      <td>75</td>\n      <td>51</td>\n      <td>88</td>\n      <td>9</td>\n      <td>3</td>\n    </tr>\n  </tbody>\n</table>\n</div>"
     },
     "execution_count": 65,
     "metadata": {},
     "output_type": "execute_result"
    }
   ],
   "source": [
    "df = pd.DataFrame(np.random.randint(1, 100, size=(5, 5)), columns=list('ABCDE'), index=['one', 'two', 'three', 'four', 'five'])\n",
    "df.head()"
   ],
   "metadata": {
    "collapsed": false,
    "pycharm": {
     "name": "#%%\n"
    }
   }
  },
  {
   "cell_type": "markdown",
   "source": [
    "## 괄호 접근\n",
    "### 하나의 열 접근, Series로\n",
    "df['A']"
   ],
   "metadata": {
    "collapsed": false,
    "pycharm": {
     "name": "#%% md\n"
    }
   }
  },
  {
   "cell_type": "code",
   "execution_count": 66,
   "outputs": [
    {
     "name": "stdout",
     "output_type": "stream",
     "text": [
      "<class 'pandas.core.series.Series'>\n",
      "one      69\n",
      "two      41\n",
      "three    94\n",
      "four     51\n",
      "five     75\n",
      "Name: A, dtype: int64\n",
      "\n"
     ]
    }
   ],
   "source": [
    "print(type(df['A']), df['A'], sep='\\n', end='\\n\\n')"
   ],
   "metadata": {
    "collapsed": false,
    "pycharm": {
     "name": "#%%\n"
    }
   }
  },
  {
   "cell_type": "markdown",
   "source": [
    "### 여러 열 접근, Dataframe로\n",
    "df[['A']]"
   ],
   "metadata": {
    "collapsed": false
   }
  },
  {
   "cell_type": "code",
   "execution_count": 67,
   "outputs": [
    {
     "name": "stdout",
     "output_type": "stream",
     "text": [
      "<class 'pandas.core.frame.DataFrame'>\n",
      "        A\n",
      "one    69\n",
      "two    41\n",
      "three  94\n",
      "four   51\n",
      "five   75\n",
      "\n"
     ]
    }
   ],
   "source": [
    "print(type(df[['A']]), df[['A']], sep='\\n', end='\\n\\n')"
   ],
   "metadata": {
    "collapsed": false,
    "pycharm": {
     "name": "#%%\n"
    }
   }
  },
  {
   "cell_type": "markdown",
   "source": [
    "### 여러 열 접근, Dataframe으로\n",
    "df[['A','C']]"
   ],
   "metadata": {
    "collapsed": false,
    "pycharm": {
     "name": "#%% md\n"
    }
   }
  },
  {
   "cell_type": "code",
   "execution_count": 68,
   "outputs": [
    {
     "name": "stdout",
     "output_type": "stream",
     "text": [
      "<class 'pandas.core.frame.DataFrame'>\n",
      "        A   C\n",
      "one    69  53\n",
      "two    41  61\n",
      "three  94  27\n",
      "four   51   8\n",
      "five   75  88\n"
     ]
    }
   ],
   "source": [
    "print(type(df[['A','C']]), df[['A','C']], sep='\\n')"
   ],
   "metadata": {
    "collapsed": false,
    "pycharm": {
     "name": "#%%\n"
    }
   }
  },
  {
   "cell_type": "markdown",
   "source": [
    "### 행 접근 X"
   ],
   "metadata": {
    "collapsed": false,
    "pycharm": {
     "name": "#%% md\n"
    }
   }
  },
  {
   "cell_type": "code",
   "execution_count": 69,
   "outputs": [],
   "source": [
    "# 여러 열을 출력하고자 할때는 리스트 형태여야함\n",
    "#df['A','C'] error\n",
    "\n",
    "# 행의 인덱스로 접근할 수 없음\n",
    "#df['one'] # error\n",
    "\n",
    "# 위에 따라 당연히 복합도 되지 않음\n",
    "#df[['one'], ['A', 'C']]"
   ],
   "metadata": {
    "collapsed": false,
    "pycharm": {
     "name": "#%%\n"
    }
   }
  },
  {
   "cell_type": "markdown",
   "source": [
    "### 결론\n",
    "단순 대괄호 연산으로는 열만 접근할 수 있음"
   ],
   "metadata": {
    "collapsed": false,
    "pycharm": {
     "name": "#%% md\n"
    }
   }
  },
  {
   "cell_type": "markdown",
   "source": [
    "## loc, iloc\n",
    "### 하나의 행, 열 출력 Series로\n",
    "\n",
    "df.loc['one']\n",
    "\n",
    "df.loc[:, 'A']\n",
    "\n",
    "df.iloc[0]\n",
    "\n",
    "df.iloc[:, 0]"
   ],
   "metadata": {
    "collapsed": false
   }
  },
  {
   "cell_type": "code",
   "execution_count": 83,
   "outputs": [
    {
     "name": "stdout",
     "output_type": "stream",
     "text": [
      "<class 'pandas.core.series.Series'>\n",
      "A    69\n",
      "B    86\n",
      "C    53\n",
      "D    52\n",
      "E    51\n",
      "Name: one, dtype: int64\n",
      "\n",
      "<class 'pandas.core.series.Series'>\n",
      "one      69\n",
      "two      41\n",
      "three    94\n",
      "four     51\n",
      "five     75\n",
      "Name: A, dtype: int64\n",
      "\n",
      "<class 'pandas.core.series.Series'>\n",
      "A    69\n",
      "B    86\n",
      "C    53\n",
      "D    52\n",
      "E    51\n",
      "Name: one, dtype: int64\n",
      "\n",
      "<class 'pandas.core.series.Series'>\n",
      "one      69\n",
      "two      41\n",
      "three    94\n",
      "four     51\n",
      "five     75\n",
      "Name: A, dtype: int64\n"
     ]
    }
   ],
   "source": [
    "print(type(df.loc['one']), df.loc['one'], sep='\\n', end='\\n\\n')\n",
    "print(type(df.loc[:,'A']), df.loc[:,'A'], sep='\\n', end='\\n\\n')\n",
    "print(type(df.iloc[0]), df.iloc[0], sep='\\n', end='\\n\\n')\n",
    "print(type(df.iloc[:,0]), df.iloc[:,0], sep='\\n')"
   ],
   "metadata": {
    "collapsed": false,
    "pycharm": {
     "name": "#%%\n"
    }
   }
  },
  {
   "cell_type": "markdown",
   "source": [
    "### 하나의 행, 열 출력 DataFrame으로\n",
    "\n",
    "df.loc[['one']]\n",
    "\n",
    "df.loc[:, ['A']]\n",
    "\n",
    "df.iloc[[0]]\n",
    "\n",
    "df.iloc[:, [0]]"
   ],
   "metadata": {
    "collapsed": false,
    "pycharm": {
     "name": "#%% md\n"
    }
   }
  },
  {
   "cell_type": "code",
   "execution_count": 84,
   "outputs": [
    {
     "name": "stdout",
     "output_type": "stream",
     "text": [
      "<class 'pandas.core.frame.DataFrame'>\n",
      "      A   B   C   D   E\n",
      "one  69  86  53  52  51\n",
      "\n",
      "<class 'pandas.core.frame.DataFrame'>\n",
      "        A\n",
      "one    69\n",
      "two    41\n",
      "three  94\n",
      "four   51\n",
      "five   75\n",
      "\n",
      "<class 'pandas.core.frame.DataFrame'>\n",
      "      A   B   C   D   E\n",
      "one  69  86  53  52  51\n",
      "\n",
      "<class 'pandas.core.frame.DataFrame'>\n",
      "        A\n",
      "one    69\n",
      "two    41\n",
      "three  94\n",
      "four   51\n",
      "five   75\n"
     ]
    }
   ],
   "source": [
    "print(type(df.loc[['one']]), df.loc[['one']], sep='\\n', end='\\n\\n')\n",
    "print(type(df.loc[:, ['A']]), df.loc[:, ['A']], sep='\\n', end='\\n\\n')\n",
    "print(type(df.iloc[[0]]), df.iloc[[0]], sep='\\n', end='\\n\\n')\n",
    "print(type(df.iloc[:, [0]]), df.iloc[:, [0]], sep='\\n')"
   ],
   "metadata": {
    "collapsed": false,
    "pycharm": {
     "name": "#%%\n"
    }
   }
  },
  {
   "cell_type": "markdown",
   "source": [
    "### 여러 행, 열 출력, DataFrame\n",
    "\n",
    "df.loc[['one','three']]\n",
    "\n",
    "df.iloc[0,2], df.iloc[1:3]"
   ],
   "metadata": {
    "collapsed": false,
    "pycharm": {
     "name": "#%% md\n"
    }
   }
  },
  {
   "cell_type": "code",
   "execution_count": 79,
   "outputs": [
    {
     "name": "stdout",
     "output_type": "stream",
     "text": [
      "<class 'pandas.core.frame.DataFrame'>\n",
      "        A   B   C   D   E\n",
      "one    69  86  53  52  51\n",
      "three  94  67  27  95  10\n",
      "\n",
      "<class 'pandas.core.frame.DataFrame'>\n",
      "        A   B   C   D   E\n",
      "one    69  86  53  52  51\n",
      "three  94  67  27  95  10\n",
      "\n",
      "<class 'pandas.core.frame.DataFrame'>\n",
      "        A   B   C   D   E\n",
      "two    41  66  61  95  60\n",
      "three  94  67  27  95  10\n"
     ]
    }
   ],
   "source": [
    "print(type(df.loc[['one', 'three']]), df.loc[['one', 'three']], sep='\\n', end='\\n\\n')\n",
    "print(type(df.iloc[[0, 2]]), df.iloc[[0, 2]], sep='\\n', end='\\n\\n')\n",
    "print(type(df.iloc[1:3]), df.iloc[1:3], sep='\\n') # 마지막 인덱스 제외"
   ],
   "metadata": {
    "collapsed": false,
    "pycharm": {
     "name": "#%%\n"
    }
   }
  },
  {
   "cell_type": "markdown",
   "source": [],
   "metadata": {
    "collapsed": false,
    "pycharm": {
     "name": "#%% md\n"
    }
   }
  },
  {
   "cell_type": "code",
   "execution_count": null,
   "outputs": [],
   "source": [],
   "metadata": {
    "collapsed": false,
    "pycharm": {
     "name": "#%%\n"
    }
   }
  }
 ],
 "metadata": {
  "kernelspec": {
   "display_name": "Python 3",
   "language": "python",
   "name": "python3"
  },
  "language_info": {
   "codemirror_mode": {
    "name": "ipython",
    "version": 2
   },
   "file_extension": ".py",
   "mimetype": "text/x-python",
   "name": "python",
   "nbconvert_exporter": "python",
   "pygments_lexer": "ipython2",
   "version": "2.7.6"
  }
 },
 "nbformat": 4,
 "nbformat_minor": 0
}