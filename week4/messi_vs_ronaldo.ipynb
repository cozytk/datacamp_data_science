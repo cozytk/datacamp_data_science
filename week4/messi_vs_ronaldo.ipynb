{
 "cells": [
  {
   "cell_type": "markdown",
   "source": [
    "# Matplotlib.pyplot 활용해서 메시와 호날두 비교하기!\n",
    "\n",
    "- 우리가 배운 기본적인 matplotlib 기능과 pandas를 활용\n",
    "\n",
    "### `plt.plot`"
   ],
   "metadata": {
    "collapsed": false,
    "pycharm": {
     "name": "#%% md\n"
    }
   }
  },
  {
   "cell_type": "code",
   "execution_count": 1,
   "metadata": {
    "collapsed": true
   },
   "outputs": [],
   "source": [
    "\n",
    "import matplotlib.pyplot as plt\n",
    "import pandas as pd"
   ]
  },
  {
   "cell_type": "code",
   "execution_count": 2,
   "outputs": [
    {
     "data": {
      "text/plain": "     Season   Player  Liga_Goals  Liga_Asts  Liga_Aps  Liga_Mins  CL_Goals  \\\n0   2017-18    Messi          34         12        36       2996         6   \n1   2017-18  Ronaldo          26          5        27       2297        15   \n2   2016-17    Messi          37          9        34       2832        11   \n3   2016-17  Ronaldo          25          6        29       2544        12   \n4   2015-16    Messi          26         16        33       2729         6   \n5   2015-16  Ronaldo          35         11        36       3184        16   \n6   2014-15    Messi          43         21        38       3375        10   \n7   2014-15  Ronaldo          48         16        35       3096        10   \n8   2013-14    Messi          28         12        31       2498         8   \n9   2013-14  Ronaldo          31         11        30       2537        17   \n10  2012-13    Messi          46         14        32       2629         8   \n11  2012-13  Ronaldo          34         11        34       2716        12   \n12  2011-12    Messi          50         20        37       3270        14   \n13  2011-12  Ronaldo          46         13        38       3353        10   \n14  2010-11    Messi          31         21        33       2862        12   \n15  2010-11  Ronaldo          40         13        34       2914         6   \n16  2009-10    Messi          34         13        35       2841         8   \n17  2009-10  Ronaldo          26         11        29       2462         7   \n\n    CL_Asts  CL_Aps  CL_Mins  \n0         2      10      783  \n1         3      13     1170  \n2         2       9      810  \n3         5      13     1200  \n4         1       7      630  \n5         4      12     1109  \n6         6      13     1145  \n7         4      12     1064  \n8         1       7      630  \n9         6      11      991  \n10        3      11      827  \n11        1      12     1080  \n12        9      11      990  \n13        4      10      930  \n14        4      13     1050  \n15        4      12     1018  \n16        0      11      985  \n17        2       6      450  ",
      "text/html": "<div>\n<style scoped>\n    .dataframe tbody tr th:only-of-type {\n        vertical-align: middle;\n    }\n\n    .dataframe tbody tr th {\n        vertical-align: top;\n    }\n\n    .dataframe thead th {\n        text-align: right;\n    }\n</style>\n<table border=\"1\" class=\"dataframe\">\n  <thead>\n    <tr style=\"text-align: right;\">\n      <th></th>\n      <th>Season</th>\n      <th>Player</th>\n      <th>Liga_Goals</th>\n      <th>Liga_Asts</th>\n      <th>Liga_Aps</th>\n      <th>Liga_Mins</th>\n      <th>CL_Goals</th>\n      <th>CL_Asts</th>\n      <th>CL_Aps</th>\n      <th>CL_Mins</th>\n    </tr>\n  </thead>\n  <tbody>\n    <tr>\n      <th>0</th>\n      <td>2017-18</td>\n      <td>Messi</td>\n      <td>34</td>\n      <td>12</td>\n      <td>36</td>\n      <td>2996</td>\n      <td>6</td>\n      <td>2</td>\n      <td>10</td>\n      <td>783</td>\n    </tr>\n    <tr>\n      <th>1</th>\n      <td>2017-18</td>\n      <td>Ronaldo</td>\n      <td>26</td>\n      <td>5</td>\n      <td>27</td>\n      <td>2297</td>\n      <td>15</td>\n      <td>3</td>\n      <td>13</td>\n      <td>1170</td>\n    </tr>\n    <tr>\n      <th>2</th>\n      <td>2016-17</td>\n      <td>Messi</td>\n      <td>37</td>\n      <td>9</td>\n      <td>34</td>\n      <td>2832</td>\n      <td>11</td>\n      <td>2</td>\n      <td>9</td>\n      <td>810</td>\n    </tr>\n    <tr>\n      <th>3</th>\n      <td>2016-17</td>\n      <td>Ronaldo</td>\n      <td>25</td>\n      <td>6</td>\n      <td>29</td>\n      <td>2544</td>\n      <td>12</td>\n      <td>5</td>\n      <td>13</td>\n      <td>1200</td>\n    </tr>\n    <tr>\n      <th>4</th>\n      <td>2015-16</td>\n      <td>Messi</td>\n      <td>26</td>\n      <td>16</td>\n      <td>33</td>\n      <td>2729</td>\n      <td>6</td>\n      <td>1</td>\n      <td>7</td>\n      <td>630</td>\n    </tr>\n    <tr>\n      <th>5</th>\n      <td>2015-16</td>\n      <td>Ronaldo</td>\n      <td>35</td>\n      <td>11</td>\n      <td>36</td>\n      <td>3184</td>\n      <td>16</td>\n      <td>4</td>\n      <td>12</td>\n      <td>1109</td>\n    </tr>\n    <tr>\n      <th>6</th>\n      <td>2014-15</td>\n      <td>Messi</td>\n      <td>43</td>\n      <td>21</td>\n      <td>38</td>\n      <td>3375</td>\n      <td>10</td>\n      <td>6</td>\n      <td>13</td>\n      <td>1145</td>\n    </tr>\n    <tr>\n      <th>7</th>\n      <td>2014-15</td>\n      <td>Ronaldo</td>\n      <td>48</td>\n      <td>16</td>\n      <td>35</td>\n      <td>3096</td>\n      <td>10</td>\n      <td>4</td>\n      <td>12</td>\n      <td>1064</td>\n    </tr>\n    <tr>\n      <th>8</th>\n      <td>2013-14</td>\n      <td>Messi</td>\n      <td>28</td>\n      <td>12</td>\n      <td>31</td>\n      <td>2498</td>\n      <td>8</td>\n      <td>1</td>\n      <td>7</td>\n      <td>630</td>\n    </tr>\n    <tr>\n      <th>9</th>\n      <td>2013-14</td>\n      <td>Ronaldo</td>\n      <td>31</td>\n      <td>11</td>\n      <td>30</td>\n      <td>2537</td>\n      <td>17</td>\n      <td>6</td>\n      <td>11</td>\n      <td>991</td>\n    </tr>\n    <tr>\n      <th>10</th>\n      <td>2012-13</td>\n      <td>Messi</td>\n      <td>46</td>\n      <td>14</td>\n      <td>32</td>\n      <td>2629</td>\n      <td>8</td>\n      <td>3</td>\n      <td>11</td>\n      <td>827</td>\n    </tr>\n    <tr>\n      <th>11</th>\n      <td>2012-13</td>\n      <td>Ronaldo</td>\n      <td>34</td>\n      <td>11</td>\n      <td>34</td>\n      <td>2716</td>\n      <td>12</td>\n      <td>1</td>\n      <td>12</td>\n      <td>1080</td>\n    </tr>\n    <tr>\n      <th>12</th>\n      <td>2011-12</td>\n      <td>Messi</td>\n      <td>50</td>\n      <td>20</td>\n      <td>37</td>\n      <td>3270</td>\n      <td>14</td>\n      <td>9</td>\n      <td>11</td>\n      <td>990</td>\n    </tr>\n    <tr>\n      <th>13</th>\n      <td>2011-12</td>\n      <td>Ronaldo</td>\n      <td>46</td>\n      <td>13</td>\n      <td>38</td>\n      <td>3353</td>\n      <td>10</td>\n      <td>4</td>\n      <td>10</td>\n      <td>930</td>\n    </tr>\n    <tr>\n      <th>14</th>\n      <td>2010-11</td>\n      <td>Messi</td>\n      <td>31</td>\n      <td>21</td>\n      <td>33</td>\n      <td>2862</td>\n      <td>12</td>\n      <td>4</td>\n      <td>13</td>\n      <td>1050</td>\n    </tr>\n    <tr>\n      <th>15</th>\n      <td>2010-11</td>\n      <td>Ronaldo</td>\n      <td>40</td>\n      <td>13</td>\n      <td>34</td>\n      <td>2914</td>\n      <td>6</td>\n      <td>4</td>\n      <td>12</td>\n      <td>1018</td>\n    </tr>\n    <tr>\n      <th>16</th>\n      <td>2009-10</td>\n      <td>Messi</td>\n      <td>34</td>\n      <td>13</td>\n      <td>35</td>\n      <td>2841</td>\n      <td>8</td>\n      <td>0</td>\n      <td>11</td>\n      <td>985</td>\n    </tr>\n    <tr>\n      <th>17</th>\n      <td>2009-10</td>\n      <td>Ronaldo</td>\n      <td>26</td>\n      <td>11</td>\n      <td>29</td>\n      <td>2462</td>\n      <td>7</td>\n      <td>2</td>\n      <td>6</td>\n      <td>450</td>\n    </tr>\n  </tbody>\n</table>\n</div>"
     },
     "execution_count": 2,
     "metadata": {},
     "output_type": "execute_result"
    }
   ],
   "source": [
    "data = pd.read_csv('../csvs/MessiRonaldo.csv')\n",
    "data"
   ],
   "metadata": {
    "collapsed": false,
    "pycharm": {
     "name": "#%%\n"
    }
   }
  },
  {
   "cell_type": "code",
   "execution_count": 3,
   "outputs": [
    {
     "data": {
      "text/plain": "    Season Player  Liga_Goals  Liga_Asts  Liga_Aps  Liga_Mins  CL_Goals  \\\n0  2017-18  Messi          34         12        36       2996         6   \n1  2016-17  Messi          37          9        34       2832        11   \n2  2015-16  Messi          26         16        33       2729         6   \n3  2014-15  Messi          43         21        38       3375        10   \n4  2013-14  Messi          28         12        31       2498         8   \n5  2012-13  Messi          46         14        32       2629         8   \n6  2011-12  Messi          50         20        37       3270        14   \n7  2010-11  Messi          31         21        33       2862        12   \n8  2009-10  Messi          34         13        35       2841         8   \n\n   CL_Asts  CL_Aps  CL_Mins  \n0        2      10      783  \n1        2       9      810  \n2        1       7      630  \n3        6      13     1145  \n4        1       7      630  \n5        3      11      827  \n6        9      11      990  \n7        4      13     1050  \n8        0      11      985  ",
      "text/html": "<div>\n<style scoped>\n    .dataframe tbody tr th:only-of-type {\n        vertical-align: middle;\n    }\n\n    .dataframe tbody tr th {\n        vertical-align: top;\n    }\n\n    .dataframe thead th {\n        text-align: right;\n    }\n</style>\n<table border=\"1\" class=\"dataframe\">\n  <thead>\n    <tr style=\"text-align: right;\">\n      <th></th>\n      <th>Season</th>\n      <th>Player</th>\n      <th>Liga_Goals</th>\n      <th>Liga_Asts</th>\n      <th>Liga_Aps</th>\n      <th>Liga_Mins</th>\n      <th>CL_Goals</th>\n      <th>CL_Asts</th>\n      <th>CL_Aps</th>\n      <th>CL_Mins</th>\n    </tr>\n  </thead>\n  <tbody>\n    <tr>\n      <th>0</th>\n      <td>2017-18</td>\n      <td>Messi</td>\n      <td>34</td>\n      <td>12</td>\n      <td>36</td>\n      <td>2996</td>\n      <td>6</td>\n      <td>2</td>\n      <td>10</td>\n      <td>783</td>\n    </tr>\n    <tr>\n      <th>1</th>\n      <td>2016-17</td>\n      <td>Messi</td>\n      <td>37</td>\n      <td>9</td>\n      <td>34</td>\n      <td>2832</td>\n      <td>11</td>\n      <td>2</td>\n      <td>9</td>\n      <td>810</td>\n    </tr>\n    <tr>\n      <th>2</th>\n      <td>2015-16</td>\n      <td>Messi</td>\n      <td>26</td>\n      <td>16</td>\n      <td>33</td>\n      <td>2729</td>\n      <td>6</td>\n      <td>1</td>\n      <td>7</td>\n      <td>630</td>\n    </tr>\n    <tr>\n      <th>3</th>\n      <td>2014-15</td>\n      <td>Messi</td>\n      <td>43</td>\n      <td>21</td>\n      <td>38</td>\n      <td>3375</td>\n      <td>10</td>\n      <td>6</td>\n      <td>13</td>\n      <td>1145</td>\n    </tr>\n    <tr>\n      <th>4</th>\n      <td>2013-14</td>\n      <td>Messi</td>\n      <td>28</td>\n      <td>12</td>\n      <td>31</td>\n      <td>2498</td>\n      <td>8</td>\n      <td>1</td>\n      <td>7</td>\n      <td>630</td>\n    </tr>\n    <tr>\n      <th>5</th>\n      <td>2012-13</td>\n      <td>Messi</td>\n      <td>46</td>\n      <td>14</td>\n      <td>32</td>\n      <td>2629</td>\n      <td>8</td>\n      <td>3</td>\n      <td>11</td>\n      <td>827</td>\n    </tr>\n    <tr>\n      <th>6</th>\n      <td>2011-12</td>\n      <td>Messi</td>\n      <td>50</td>\n      <td>20</td>\n      <td>37</td>\n      <td>3270</td>\n      <td>14</td>\n      <td>9</td>\n      <td>11</td>\n      <td>990</td>\n    </tr>\n    <tr>\n      <th>7</th>\n      <td>2010-11</td>\n      <td>Messi</td>\n      <td>31</td>\n      <td>21</td>\n      <td>33</td>\n      <td>2862</td>\n      <td>12</td>\n      <td>4</td>\n      <td>13</td>\n      <td>1050</td>\n    </tr>\n    <tr>\n      <th>8</th>\n      <td>2009-10</td>\n      <td>Messi</td>\n      <td>34</td>\n      <td>13</td>\n      <td>35</td>\n      <td>2841</td>\n      <td>8</td>\n      <td>0</td>\n      <td>11</td>\n      <td>985</td>\n    </tr>\n  </tbody>\n</table>\n</div>"
     },
     "execution_count": 3,
     "metadata": {},
     "output_type": "execute_result"
    }
   ],
   "source": [
    "messi = data[data['Player'] == 'Messi'].reset_index(drop=True)\n",
    "messi"
   ],
   "metadata": {
    "collapsed": false,
    "pycharm": {
     "name": "#%%\n"
    }
   }
  },
  {
   "cell_type": "code",
   "execution_count": 4,
   "outputs": [
    {
     "data": {
      "text/plain": "    Season   Player  Liga_Goals  Liga_Asts  Liga_Aps  Liga_Mins  CL_Goals  \\\n0  2017-18  Ronaldo          26          5        27       2297        15   \n1  2016-17  Ronaldo          25          6        29       2544        12   \n2  2015-16  Ronaldo          35         11        36       3184        16   \n3  2014-15  Ronaldo          48         16        35       3096        10   \n4  2013-14  Ronaldo          31         11        30       2537        17   \n5  2012-13  Ronaldo          34         11        34       2716        12   \n6  2011-12  Ronaldo          46         13        38       3353        10   \n7  2010-11  Ronaldo          40         13        34       2914         6   \n8  2009-10  Ronaldo          26         11        29       2462         7   \n\n   CL_Asts  CL_Aps  CL_Mins  \n0        3      13     1170  \n1        5      13     1200  \n2        4      12     1109  \n3        4      12     1064  \n4        6      11      991  \n5        1      12     1080  \n6        4      10      930  \n7        4      12     1018  \n8        2       6      450  ",
      "text/html": "<div>\n<style scoped>\n    .dataframe tbody tr th:only-of-type {\n        vertical-align: middle;\n    }\n\n    .dataframe tbody tr th {\n        vertical-align: top;\n    }\n\n    .dataframe thead th {\n        text-align: right;\n    }\n</style>\n<table border=\"1\" class=\"dataframe\">\n  <thead>\n    <tr style=\"text-align: right;\">\n      <th></th>\n      <th>Season</th>\n      <th>Player</th>\n      <th>Liga_Goals</th>\n      <th>Liga_Asts</th>\n      <th>Liga_Aps</th>\n      <th>Liga_Mins</th>\n      <th>CL_Goals</th>\n      <th>CL_Asts</th>\n      <th>CL_Aps</th>\n      <th>CL_Mins</th>\n    </tr>\n  </thead>\n  <tbody>\n    <tr>\n      <th>0</th>\n      <td>2017-18</td>\n      <td>Ronaldo</td>\n      <td>26</td>\n      <td>5</td>\n      <td>27</td>\n      <td>2297</td>\n      <td>15</td>\n      <td>3</td>\n      <td>13</td>\n      <td>1170</td>\n    </tr>\n    <tr>\n      <th>1</th>\n      <td>2016-17</td>\n      <td>Ronaldo</td>\n      <td>25</td>\n      <td>6</td>\n      <td>29</td>\n      <td>2544</td>\n      <td>12</td>\n      <td>5</td>\n      <td>13</td>\n      <td>1200</td>\n    </tr>\n    <tr>\n      <th>2</th>\n      <td>2015-16</td>\n      <td>Ronaldo</td>\n      <td>35</td>\n      <td>11</td>\n      <td>36</td>\n      <td>3184</td>\n      <td>16</td>\n      <td>4</td>\n      <td>12</td>\n      <td>1109</td>\n    </tr>\n    <tr>\n      <th>3</th>\n      <td>2014-15</td>\n      <td>Ronaldo</td>\n      <td>48</td>\n      <td>16</td>\n      <td>35</td>\n      <td>3096</td>\n      <td>10</td>\n      <td>4</td>\n      <td>12</td>\n      <td>1064</td>\n    </tr>\n    <tr>\n      <th>4</th>\n      <td>2013-14</td>\n      <td>Ronaldo</td>\n      <td>31</td>\n      <td>11</td>\n      <td>30</td>\n      <td>2537</td>\n      <td>17</td>\n      <td>6</td>\n      <td>11</td>\n      <td>991</td>\n    </tr>\n    <tr>\n      <th>5</th>\n      <td>2012-13</td>\n      <td>Ronaldo</td>\n      <td>34</td>\n      <td>11</td>\n      <td>34</td>\n      <td>2716</td>\n      <td>12</td>\n      <td>1</td>\n      <td>12</td>\n      <td>1080</td>\n    </tr>\n    <tr>\n      <th>6</th>\n      <td>2011-12</td>\n      <td>Ronaldo</td>\n      <td>46</td>\n      <td>13</td>\n      <td>38</td>\n      <td>3353</td>\n      <td>10</td>\n      <td>4</td>\n      <td>10</td>\n      <td>930</td>\n    </tr>\n    <tr>\n      <th>7</th>\n      <td>2010-11</td>\n      <td>Ronaldo</td>\n      <td>40</td>\n      <td>13</td>\n      <td>34</td>\n      <td>2914</td>\n      <td>6</td>\n      <td>4</td>\n      <td>12</td>\n      <td>1018</td>\n    </tr>\n    <tr>\n      <th>8</th>\n      <td>2009-10</td>\n      <td>Ronaldo</td>\n      <td>26</td>\n      <td>11</td>\n      <td>29</td>\n      <td>2462</td>\n      <td>7</td>\n      <td>2</td>\n      <td>6</td>\n      <td>450</td>\n    </tr>\n  </tbody>\n</table>\n</div>"
     },
     "execution_count": 4,
     "metadata": {},
     "output_type": "execute_result"
    }
   ],
   "source": [
    "ronaldo = data[data['Player'] == 'Ronaldo'].reset_index(drop=True)\n",
    "ronaldo"
   ],
   "metadata": {
    "collapsed": false,
    "pycharm": {
     "name": "#%%\n"
    }
   }
  },
  {
   "cell_type": "code",
   "execution_count": 5,
   "outputs": [],
   "source": [
    "ronaldo_liga_goals = ronaldo['Liga_Goals']\n",
    "messi_liga_goals = messi['Liga_Goals']"
   ],
   "metadata": {
    "collapsed": false,
    "pycharm": {
     "name": "#%%\n"
    }
   }
  },
  {
   "cell_type": "code",
   "execution_count": 6,
   "outputs": [
    {
     "data": {
      "text/plain": "0    True\n1    True\n2    True\n3    True\n4    True\n5    True\n6    True\n7    True\n8    True\nName: Season, dtype: bool"
     },
     "execution_count": 6,
     "metadata": {},
     "output_type": "execute_result"
    }
   ],
   "source": [
    "ronaldo['Season'] == messi['Season']"
   ],
   "metadata": {
    "collapsed": false,
    "pycharm": {
     "name": "#%%\n"
    }
   }
  },
  {
   "cell_type": "code",
   "execution_count": 7,
   "outputs": [
    {
     "data": {
      "text/plain": "<Figure size 432x288 with 1 Axes>",
      "image/png": "[encoded data removed]"
     },
     "metadata": {
      "needs_background": "light"
     },
     "output_type": "display_data"
    }
   ],
   "source": [
    "seasons = ronaldo['Season']\n",
    "plt.plot(seasons,ronaldo_liga_goals,label='ronaldo')\n",
    "plt.plot(seasons,messi_liga_goals,label='messi')\n",
    "plt.show()"
   ],
   "metadata": {
    "collapsed": false,
    "pycharm": {
     "name": "#%%\n"
    }
   }
  },
  {
   "cell_type": "markdown",
   "source": [
    "**아쉬운 점**\n",
    "\n",
    "    1. y값이 0부터 시작하지 않아서 그래프의 격차가 너무 큼\n",
    "    2. 누가 메시고 누가 호날두인지 알 수가 없음\n",
    "    3. 연도별 데이터가 역순으로 되어 있음\n",
    "    4. 그래프의 x축과 y축이 무엇을 나타내는지 알 수 없음\n",
    "    5. x축의 시즌 기록이 빽빽해서 보기 힘듦\n",
    "\n",
    "### `plt.scatter`"
   ],
   "metadata": {
    "collapsed": false,
    "pycharm": {
     "name": "#%% md\n"
    }
   }
  },
  {
   "cell_type": "code",
   "execution_count": 7,
   "outputs": [],
   "source": [],
   "metadata": {
    "collapsed": false,
    "pycharm": {
     "name": "#%%\n"
    }
   }
  },
  {
   "cell_type": "code",
   "execution_count": 8,
   "outputs": [
    {
     "name": "stdout",
     "output_type": "stream",
     "text": [
      "['09-10', '10-11', '11-12', '12-13', '13-14', '14-15', '15-16', '16-17', '17-18']\n"
     ]
    }
   ],
   "source": [
    "seasons = seasons.iloc[::-1]\n",
    "seasons = [i[2:] for i in seasons]\n",
    "print(seasons)"
   ],
   "metadata": {
    "collapsed": false,
    "pycharm": {
     "name": "#%%\n"
    }
   }
  },
  {
   "cell_type": "code",
   "execution_count": 9,
   "outputs": [
    {
     "data": {
      "text/plain": "<Figure size 432x288 with 1 Axes>",
      "image/png": "[encoded data removed]"
     },
     "metadata": {
      "needs_background": "light"
     },
     "output_type": "display_data"
    }
   ],
   "source": [
    "ronaldo_liga_goals = ronaldo_liga_goals[::-1]\n",
    "messi_liga_goals = messi_liga_goals[::-1]\n",
    "plt.plot(seasons,ronaldo_liga_goals,label='ronaldo')\n",
    "plt.plot(seasons,messi_liga_goals,label='messi')\n",
    "plt.xlabel('Season')\n",
    "plt.ylabel('Goal')\n",
    "plt.yticks([0, 10, 20, 30, 40, 50, 60])\n",
    "plt.legend()\n",
    "plt.title('Ronaldo vs Messi in Liga')\n",
    "plt.show()"
   ],
   "metadata": {
    "collapsed": false,
    "pycharm": {
     "name": "#%%\n"
    }
   }
  },
  {
   "cell_type": "markdown",
   "source": [
    "엎치락 뒤치락하는 느낌이 든다.\n",
    "\n",
    "**아쉬운 점**\n",
    "\n",
    "    1. 작년 성적이 지난 성적과 연관은 있으나 직접적으로 연결되는 것이 아니라 선 그래프를 사용한 것이 부적절해 보임\n",
    "\n",
    "### `plt.hist`"
   ],
   "metadata": {
    "collapsed": false,
    "pycharm": {
     "name": "#%% md\n"
    }
   }
  },
  {
   "cell_type": "code",
   "execution_count": 10,
   "outputs": [],
   "source": [
    "ronaldo_liga_asts = ronaldo['Liga_Asts'].iloc[::-1]\n",
    "messi_liga_asts = messi['Liga_Asts'].iloc[::-1]"
   ],
   "metadata": {
    "collapsed": false,
    "pycharm": {
     "name": "#%%\n"
    }
   }
  },
  {
   "cell_type": "code",
   "execution_count": 11,
   "outputs": [
    {
     "data": {
      "text/plain": "<Figure size 432x288 with 1 Axes>",
      "image/png": "[encoded data removed]"
     },
     "metadata": {
      "needs_background": "light"
     },
     "output_type": "display_data"
    }
   ],
   "source": [
    "plt.scatter(seasons,ronaldo_liga_asts,label='ronaldo')\n",
    "plt.scatter(seasons,messi_liga_asts,label='messi')\n",
    "plt.xlabel('Season')\n",
    "plt.ylabel('Assist')\n",
    "plt.yticks([0, 5, 10, 15, 20, 25])\n",
    "plt.legend()\n",
    "plt.title('Ronaldo vs Messi in Liga')\n",
    "plt.show()"
   ],
   "metadata": {
    "collapsed": false,
    "pycharm": {
     "name": "#%%\n"
    }
   }
  },
  {
   "cell_type": "markdown",
   "source": [
    "메시가 더 어시스트를 잘하는 선수이다.\n",
    "\n",
    "**평가**\n",
    "\n",
    "    각 시즌별로 누가 잘했는지 확인하기는 좋음 그러나 조금 아쉬운 느낌?\n",
    "\n",
    "### `plt.hist`"
   ],
   "metadata": {
    "collapsed": false,
    "pycharm": {
     "name": "#%% md\n"
    }
   }
  },
  {
   "cell_type": "code",
   "execution_count": 12,
   "outputs": [
    {
     "data": {
      "text/plain": "Index(['Season', 'Player', 'Liga_Goals', 'Liga_Asts', 'Liga_Aps', 'Liga_Mins',\n       'CL_Goals', 'CL_Asts', 'CL_Aps', 'CL_Mins'],\n      dtype='object')"
     },
     "execution_count": 12,
     "metadata": {},
     "output_type": "execute_result"
    }
   ],
   "source": [
    "data.columns"
   ],
   "metadata": {
    "collapsed": false,
    "pycharm": {
     "name": "#%%\n"
    }
   }
  },
  {
   "cell_type": "code",
   "execution_count": 13,
   "outputs": [
    {
     "name": "stdout",
     "output_type": "stream",
     "text": [
      "0    61.5\n",
      "1    57.0\n",
      "2    76.5\n",
      "3    80.0\n",
      "4    76.5\n",
      "5    64.5\n",
      "6    76.5\n",
      "7    62.5\n",
      "8    47.5\n",
      "Name: Points, dtype: float64 0    54.0\n",
      "1    65.5\n",
      "2    47.0\n",
      "3    79.5\n",
      "4    51.0\n",
      "5    72.0\n",
      "6    97.0\n",
      "7    69.5\n",
      "8    56.5\n",
      "Name: Points, dtype: float64\n"
     ]
    }
   ],
   "source": [
    "ronaldo['Points'] = (ronaldo['Liga_Goals'] + ronaldo['Liga_Asts'] * 0.5 +\n",
    "                     ronaldo['CL_Goals'] * 2 + ronaldo['CL_Asts'])\n",
    "messi['Points'] = (messi['Liga_Goals'] + messi['Liga_Asts'] * 0.5 +\n",
    "                     messi['CL_Goals'] * 2 + messi['CL_Asts'])\n",
    "\n",
    "print(ronaldo['Points'], messi['Points'])"
   ],
   "metadata": {
    "collapsed": false,
    "pycharm": {
     "name": "#%%\n"
    }
   }
  },
  {
   "cell_type": "code",
   "execution_count": 14,
   "outputs": [
    {
     "data": {
      "text/plain": "<Figure size 432x288 with 1 Axes>",
      "image/png": "[encoded data removed]"
     },
     "metadata": {
      "needs_background": "light"
     },
     "output_type": "display_data"
    }
   ],
   "source": [
    "plt.hist(ronaldo['Points'], bins=5)\n",
    "plt.xticks([40, 50, 60, 70, 80, 90, 100])\n",
    "plt.show()"
   ],
   "metadata": {
    "collapsed": false,
    "pycharm": {
     "name": "#%%\n"
    }
   }
  },
  {
   "cell_type": "code",
   "execution_count": 15,
   "outputs": [
    {
     "data": {
      "text/plain": "<Figure size 432x288 with 1 Axes>",
      "image/png": "[encoded data removed]"
     },
     "metadata": {
      "needs_background": "light"
     },
     "output_type": "display_data"
    }
   ],
   "source": [
    "plt.hist(messi['Points'], bins=5)\n",
    "plt.xticks([40, 50, 60, 70, 80, 90, 100])\n",
    "plt.show()"
   ],
   "metadata": {
    "collapsed": false,
    "pycharm": {
     "name": "#%%\n"
    }
   }
  },
  {
   "cell_type": "markdown",
   "source": [
    "**평가**\n",
    "\n",
    "    - hist보다는 scatter로 나타내는 게 좋아보인다. hist는 데이터가 많을 때 유용할듯\n",
    "    - 그래프가 뭔가 x축이 딱 떨어지게 그려지는게 아니라 좀 안예쁘게 그려지는 느낌. 폭도 다 다름\n",
    "    - 나의 점수 체계로는 호날두가 좀더 꾸준한 성적을 보여줬다는 것을 hist를 통해 보여주는 것 같다.\n",
    "    - 전체적인 평가는 단순한 평균값으로 계산하는 것이 나아보인다."
   ],
   "metadata": {
    "collapsed": false
   }
  },
  {
   "cell_type": "code",
   "execution_count": 16,
   "outputs": [
    {
     "name": "stdout",
     "output_type": "stream",
     "text": [
      "66.94444444444444 65.77777777777777\n"
     ]
    }
   ],
   "source": [
    "# 역시 영혼의 라이벌인가\n",
    "print(ronaldo['Points'].mean(), messi['Points'].mean())"
   ],
   "metadata": {
    "collapsed": false,
    "pycharm": {
     "name": "#%%\n"
    }
   }
  },
  {
   "cell_type": "code",
   "execution_count": 17,
   "outputs": [
    {
     "data": {
      "text/plain": "<Figure size 432x288 with 1 Axes>",
      "image/png": "[encoded data removed]"
     },
     "metadata": {
      "needs_background": "light"
     },
     "output_type": "display_data"
    }
   ],
   "source": [
    "plt.scatter(seasons,ronaldo['Points'].iloc[::-1],label='ronaldo')\n",
    "plt.scatter(seasons,messi['Points'].iloc[::-1],label='messi')\n",
    "plt.xlabel('Season')\n",
    "plt.ylabel('point')\n",
    "plt.yticks([40, 50, 60, 70, 80, 90, 100])\n",
    "plt.legend()\n",
    "plt.title('Ronaldo vs Messi evaluated by my own points')\n",
    "plt.show()"
   ],
   "metadata": {
    "collapsed": false,
    "pycharm": {
     "name": "#%%\n"
    }
   }
  },
  {
   "cell_type": "markdown",
   "source": [
    "**점수제 평가**\n",
    "    1. 11-12시즌에는 메시가, 13-14, 15-16에는 호날두가 큰 차이를 보였고, 나머지는 비슷함\n",
    "    2. 어시스트와 챔피언스리그 성적이 좋은 호날두에게 유리했던 채점 방식 같기도 하다"
   ],
   "metadata": {
    "collapsed": false,
    "pycharm": {
     "name": "#%% md\n"
    }
   }
  },
  {
   "cell_type": "code",
   "execution_count": 18,
   "outputs": [],
   "source": [
    "ronaldo_avgs = ([ronaldo.Liga_Goals.mean(), ronaldo.Liga_Asts.mean(),\n",
    "                 ronaldo.CL_Goals.mean(), ronaldo.CL_Asts.mean()])\n",
    "messi_avgs = ([messi.Liga_Goals.mean(), messi.Liga_Asts.mean(),\n",
    "                 messi.CL_Goals.mean(), messi.CL_Asts.mean()])\n",
    "x = ['Liga_Goal', 'Liga_Asts', 'CL_Goals', 'CL_Asts']"
   ],
   "metadata": {
    "collapsed": false,
    "pycharm": {
     "name": "#%%\n"
    }
   }
  },
  {
   "cell_type": "code",
   "execution_count": 19,
   "outputs": [
    {
     "data": {
      "text/plain": "<Figure size 432x288 with 1 Axes>",
      "image/png": "[encoded data removed]"
     },
     "metadata": {
      "needs_background": "light"
     },
     "output_type": "display_data"
    }
   ],
   "source": [
    "plt.scatter(x, ronaldo_avgs, label='ronaldo')\n",
    "plt.scatter(x, messi_avgs, label='messi')\n",
    "plt.legend()\n",
    "plt.show()"
   ],
   "metadata": {
    "collapsed": false,
    "pycharm": {
     "name": "#%%\n"
    }
   }
  },
  {
   "cell_type": "markdown",
   "source": [
    "**평가**\n",
    "\n",
    "    - Liga_Goal이 다른 것들에 비하여 수치가 높아 각각의 값들의 차가 보기에는 더 작아보이는 효과가 생김\n",
    "\n",
    "**느낌**\n",
    "\n",
    "    - plot은 x축이 전에 값과 후의 값이 직접적인 연관이 있을때 사용\n",
    "    - scatter는 각각 값을 비교할때 사용\n",
    "    - hist는 데이터가 클때 사용\n",
    "    - 전체적으로 시각화는 추이를 보는데에 의미가 있다는 느낌을 받음\n"
   ],
   "metadata": {
    "collapsed": false,
    "pycharm": {
     "name": "#%% md\n"
    }
   }
  }
 ],
 "metadata": {
  "kernelspec": {
   "display_name": "Python 3",
   "language": "python",
   "name": "python3"
  },
  "language_info": {
   "codemirror_mode": {
    "name": "ipython",
    "version": 2
   },
   "file_extension": ".py",
   "mimetype": "text/x-python",
   "name": "python",
   "nbconvert_exporter": "python",
   "pygments_lexer": "ipython2",
   "version": "2.7.6"
  }
 },
 "nbformat": 4,
 "nbformat_minor": 0
}